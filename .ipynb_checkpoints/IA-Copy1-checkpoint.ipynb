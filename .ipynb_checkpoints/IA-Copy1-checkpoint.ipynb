{
 "cells": [
  {
   "cell_type": "markdown",
   "id": "d437bd6e-a4b8-48cd-8d7f-a12d52f17f01",
   "metadata": {},
   "source": [
    "# <center>Inteligencia Artificial</center>\n",
    "#### <center>Profesor: Dr. Hernán D. Merlino </center>\n",
    "\n",
    "\n",
    "## <center>Trabajo Práctico:</center>\n",
    "### <center>  Generar chistes</center>\n",
    "\n",
    "\n",
    "#### **Integrante:**\n",
    "\n",
    "* Brayan Ricaldi"
   ]
  },
  {
   "cell_type": "markdown",
   "id": "60ea8907-9c01-4e36-bbd0-54f77f431cfd",
   "metadata": {},
   "source": [
    "## Explicacion previa:"
   ]
  },
  {
   "cell_type": "markdown",
   "id": "6f33e335-27a6-48ec-b197-a80bbae73039",
   "metadata": {},
   "source": [
    "Utilizare el tipo de dato Arrow y no Pandas. Por los siguientes motivos:\n",
    "   - Arrow esta diseñado para el procesamiento de datos de alto rendimiento y representa  cada conjunto de datos similar a una tabla con un formato en columna de memoria.\n",
    "   - Permite multiplces procesos sin mover ni copiar los datos, estoo hace que iterar los datos sea realmente rapido.\n",
    "   \n",
    "Por estos motivos he podido crear mi modelo y estudiarlo, sin problemas de memoria.<br>\n",
    "Para mas detalles: https://huggingface.co/course/chapter5/4?fw=pt.\n",
    "\n",
    "Team Arrow!!"
   ]
  },
  {
   "cell_type": "code",
   "execution_count": 45,
   "id": "cc54ec04-ab31-4309-ac78-73aca16879ad",
   "metadata": {},
   "outputs": [
    {
     "name": "stderr",
     "output_type": "stream",
     "text": [
      "2023-03-04 13:40:50.702859: I tensorflow/core/platform/cpu_feature_guard.cc:193] This TensorFlow binary is optimized with oneAPI Deep Neural Network Library (oneDNN) to use the following CPU instructions in performance-critical operations:  SSE4.1 SSE4.2 AVX AVX2 FMA\n",
      "To enable them in other operations, rebuild TensorFlow with the appropriate compiler flags.\n"
     ]
    }
   ],
   "source": [
    "import transformers"
   ]
  },
  {
   "cell_type": "markdown",
   "id": "7e7fb8a6-127b-4369-8081-b8c1eeea7bc5",
   "metadata": {},
   "source": [
    "## Descargando los datos"
   ]
  },
  {
   "cell_type": "code",
   "execution_count": 41,
   "id": "e7155887-c767-48a9-9876-ee93f070f0f9",
   "metadata": {},
   "outputs": [],
   "source": [
    "from datasets import load_dataset"
   ]
  },
  {
   "cell_type": "code",
   "execution_count": 42,
   "id": "476521cd-95f4-4bcd-bc70-b4724a5ae5ac",
   "metadata": {},
   "outputs": [
    {
     "name": "stderr",
     "output_type": "stream",
     "text": [
      "Using custom data configuration default-9313eabec7887a97\n",
      "Found cached dataset csv (/home/br/.cache/huggingface/datasets/csv/default-9313eabec7887a97/0.0.0/6b34fb8fcf56f7c8ba51dc895bfa2bfbe43546f190a60fcf74bb5e8afdcc2317)\n"
     ]
    },
    {
     "data": {
      "text/plain": [
       "Dataset({\n",
       "    features: ['ID', 'Joke'],\n",
       "    num_rows: 231657\n",
       "})"
      ]
     },
     "execution_count": 42,
     "metadata": {},
     "output_type": "execute_result"
    }
   ],
   "source": [
    "ds = load_dataset(\n",
    "                    \"csv\",\n",
    "                    data_files=\"./DataSets/shortjokes.csv\",\n",
    "                    split=\"train\"\n",
    "                    )\n",
    "ds"
   ]
  },
  {
   "cell_type": "code",
   "execution_count": 43,
   "id": "34cd4ad1-6fff-413b-970e-a456ff7792ef",
   "metadata": {},
   "outputs": [
    {
     "data": {
      "text/plain": [
       "{'ID': [1, 2],\n",
       " 'Joke': ['[me narrating a documentary about narrators] \"I can\\'t hear what they\\'re saying cuz I\\'m talking\"',\n",
       "  'Telling my daughter garlic is good for you. Good immune system and keeps pests away.Ticks, mosquitos, vampires... men.']}"
      ]
     },
     "execution_count": 43,
     "metadata": {},
     "output_type": "execute_result"
    }
   ],
   "source": [
    "ds[:2] #Formato usado: Apache Arrow"
   ]
  },
  {
   "cell_type": "markdown",
   "id": "a9d3cfa1-e432-44a1-ac4b-a47a662236f1",
   "metadata": {},
   "source": [
    "## Explorando el dataSet"
   ]
  },
  {
   "cell_type": "markdown",
   "id": "1f727d58-7b34-48d7-acdc-01fada796183",
   "metadata": {},
   "source": [
    "Convierto el DataSet a formato pandas, para mejor estudio de los datos y visualizaciones."
   ]
  },
  {
   "cell_type": "code",
   "execution_count": 31,
   "id": "5898c2ea-dfbd-4c91-a8d4-7422734d0307",
   "metadata": {},
   "outputs": [],
   "source": [
    "import pandas as pd\n",
    "df = dd.to_pandas()"
   ]
  },
  {
   "cell_type": "code",
   "execution_count": 32,
   "id": "a396d3ef-9422-4052-82a2-64a4cb62a8b2",
   "metadata": {},
   "outputs": [
    {
     "data": {
      "text/html": [
       "<div>\n",
       "<style scoped>\n",
       "    .dataframe tbody tr th:only-of-type {\n",
       "        vertical-align: middle;\n",
       "    }\n",
       "\n",
       "    .dataframe tbody tr th {\n",
       "        vertical-align: top;\n",
       "    }\n",
       "\n",
       "    .dataframe thead th {\n",
       "        text-align: right;\n",
       "    }\n",
       "</style>\n",
       "<table border=\"1\" class=\"dataframe\">\n",
       "  <thead>\n",
       "    <tr style=\"text-align: right;\">\n",
       "      <th></th>\n",
       "      <th>ID</th>\n",
       "      <th>Joke</th>\n",
       "    </tr>\n",
       "  </thead>\n",
       "  <tbody>\n",
       "    <tr>\n",
       "      <th>0</th>\n",
       "      <td>1</td>\n",
       "      <td>[me narrating a documentary about narrators] \"...</td>\n",
       "    </tr>\n",
       "    <tr>\n",
       "      <th>1</th>\n",
       "      <td>2</td>\n",
       "      <td>Telling my daughter garlic is good for you. Go...</td>\n",
       "    </tr>\n",
       "    <tr>\n",
       "      <th>2</th>\n",
       "      <td>3</td>\n",
       "      <td>I've been going through a really rough period ...</td>\n",
       "    </tr>\n",
       "    <tr>\n",
       "      <th>3</th>\n",
       "      <td>4</td>\n",
       "      <td>If I could have dinner with anyone, dead or al...</td>\n",
       "    </tr>\n",
       "    <tr>\n",
       "      <th>4</th>\n",
       "      <td>5</td>\n",
       "      <td>Two guys walk into a bar. The third guy ducks.</td>\n",
       "    </tr>\n",
       "  </tbody>\n",
       "</table>\n",
       "</div>"
      ],
      "text/plain": [
       "   ID                                               Joke\n",
       "0   1  [me narrating a documentary about narrators] \"...\n",
       "1   2  Telling my daughter garlic is good for you. Go...\n",
       "2   3  I've been going through a really rough period ...\n",
       "3   4  If I could have dinner with anyone, dead or al...\n",
       "4   5     Two guys walk into a bar. The third guy ducks."
      ]
     },
     "execution_count": 32,
     "metadata": {},
     "output_type": "execute_result"
    }
   ],
   "source": [
    "df.head()"
   ]
  },
  {
   "cell_type": "code",
   "execution_count": null,
   "id": "c9860540-6ac7-4171-991a-a99b48d6b24a",
   "metadata": {},
   "outputs": [],
   "source": [
    "#Lo vuelvo a convertir al tipo Arrow tables."
   ]
  },
  {
   "cell_type": "code",
   "execution_count": 34,
   "id": "3d7b958f-4156-4bfd-95cf-db42b8d2d360",
   "metadata": {},
   "outputs": [],
   "source": [
    "#ds"
   ]
  },
  {
   "cell_type": "markdown",
   "id": "311436b4-259b-4e2f-b0d7-1bb92e4bb303",
   "metadata": {},
   "source": [
    "## Preparando los dataSet"
   ]
  },
  {
   "cell_type": "markdown",
   "id": "341ad110-ba90-4614-b907-0b7dc0a090d0",
   "metadata": {},
   "source": [
    "Elimino el feature ID porque no brinda informacion"
   ]
  },
  {
   "cell_type": "code",
   "execution_count": 35,
   "id": "e0a7b453-c134-4c91-bcec-a84aa56d2d56",
   "metadata": {},
   "outputs": [
    {
     "data": {
      "text/plain": [
       "Dataset({\n",
       "    features: ['Joke'],\n",
       "    num_rows: 231657\n",
       "})"
      ]
     },
     "execution_count": 35,
     "metadata": {},
     "output_type": "execute_result"
    }
   ],
   "source": [
    "ds = ds.remove_columns(\"ID\")\n",
    "ds"
   ]
  },
  {
   "cell_type": "markdown",
   "id": "f8c77538-c5a0-41a8-801f-3aa67acb83b1",
   "metadata": {},
   "source": [
    "Cambio el nombre del feature \"Joke\" por \"joke\", por comodidad"
   ]
  },
  {
   "cell_type": "code",
   "execution_count": 36,
   "id": "a6ced9d0-3954-4352-b882-74be5e207853",
   "metadata": {},
   "outputs": [
    {
     "data": {
      "text/plain": [
       "Dataset({\n",
       "    features: ['joke'],\n",
       "    num_rows: 231657\n",
       "})"
      ]
     },
     "execution_count": 36,
     "metadata": {},
     "output_type": "execute_result"
    }
   ],
   "source": [
    "ds = ds.rename_column(\"Joke\", \"joke\")\n",
    "ds"
   ]
  },
  {
   "cell_type": "markdown",
   "id": "32cfd703-b173-4189-bb80-bc06d8772e02",
   "metadata": {},
   "source": [
    "Elimino las etiquetas HTML de los chistes"
   ]
  },
  {
   "cell_type": "code",
   "execution_count": 37,
   "id": "cca1821b-c12e-49e0-84e5-f5b2c9d42cfa",
   "metadata": {},
   "outputs": [
    {
     "name": "stderr",
     "output_type": "stream",
     "text": [
      "Loading cached processed dataset at /home/br/.cache/huggingface/datasets/csv/default-9313eabec7887a97/0.0.0/6b34fb8fcf56f7c8ba51dc895bfa2bfbe43546f190a60fcf74bb5e8afdcc2317/cache-df5a113eb88e0e16.arrow\n"
     ]
    },
    {
     "data": {
      "text/plain": [
       "Dataset({\n",
       "    features: ['joke'],\n",
       "    num_rows: 231657\n",
       "})"
      ]
     },
     "execution_count": 37,
     "metadata": {},
     "output_type": "execute_result"
    }
   ],
   "source": [
    "import html\n",
    "ds = ds.map(lambda x: {\"joke\": html.unescape(x[\"joke\"])})\n",
    "ds"
   ]
  },
  {
   "cell_type": "markdown",
   "id": "e10c5a0c-e745-4739-9ce9-92e6a2662d9a",
   "metadata": {},
   "source": [
    "## Dividio el dataSet en train y test"
   ]
  },
  {
   "cell_type": "markdown",
   "id": "0ff7e94e-74a7-46b8-be50-e1951ee3f5e2",
   "metadata": {},
   "source": [
    "Divido el dataSet en 2:\n",
    "   - Train: 70%.\n",
    "   - Test: 30%. <br>\n",
    "\n",
    "Para division sera de forma aleatoria con el parametro shuffle=True."
   ]
  },
  {
   "cell_type": "code",
   "execution_count": 38,
   "id": "9a7e6658-a438-4000-bce0-9d2bc6acf14f",
   "metadata": {},
   "outputs": [],
   "source": [
    "d_joke = ds.train_test_split(\n",
    "                                test_size=0.3, \n",
    "                                shuffle=True,\n",
    "                                seed=1\n",
    "                            )"
   ]
  },
  {
   "cell_type": "code",
   "execution_count": 39,
   "id": "d12ba582-ce22-45c9-ba07-264b3e75a8b6",
   "metadata": {},
   "outputs": [
    {
     "data": {
      "text/plain": [
       "DatasetDict({\n",
       "    train: Dataset({\n",
       "        features: ['joke'],\n",
       "        num_rows: 162159\n",
       "    })\n",
       "    test: Dataset({\n",
       "        features: ['joke'],\n",
       "        num_rows: 69498\n",
       "    })\n",
       "})"
      ]
     },
     "execution_count": 39,
     "metadata": {},
     "output_type": "execute_result"
    }
   ],
   "source": [
    "d_joke"
   ]
  },
  {
   "cell_type": "markdown",
   "id": "6ad609db-f5e6-4b54-884c-b5bf651a95a2",
   "metadata": {},
   "source": [
    "#IMPORTANTE: Saber cuantos none hay"
   ]
  },
  {
   "cell_type": "markdown",
   "id": "b957acf5-faab-4ec9-a900-5777aacbef89",
   "metadata": {},
   "source": [
    "#IMPORTANTE: Estudiar el len de los chistes, para ver si hay chistes de loongitud muy pequeños, como 0, 1, 2, .. 5. Puedes usar: https://huggingface.co/course/chapter5/3?fw=pt"
   ]
  },
  {
   "cell_type": "code",
   "execution_count": null,
   "id": "81aaa237-d564-4047-ad16-4b199679c13a",
   "metadata": {},
   "outputs": [],
   "source": [
    "3"
   ]
  }
 ],
 "metadata": {
  "kernelspec": {
   "display_name": "Python 3 (ipykernel)",
   "language": "python",
   "name": "python3"
  },
  "language_info": {
   "codemirror_mode": {
    "name": "ipython",
    "version": 3
   },
   "file_extension": ".py",
   "mimetype": "text/x-python",
   "name": "python",
   "nbconvert_exporter": "python",
   "pygments_lexer": "ipython3",
   "version": "3.9.13"
  }
 },
 "nbformat": 4,
 "nbformat_minor": 5
}
