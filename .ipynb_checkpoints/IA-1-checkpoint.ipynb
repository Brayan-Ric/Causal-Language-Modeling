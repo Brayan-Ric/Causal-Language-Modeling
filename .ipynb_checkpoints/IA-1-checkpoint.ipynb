{
 "cells": [
  {
   "cell_type": "markdown",
   "id": "d437bd6e-a4b8-48cd-8d7f-a12d52f17f01",
   "metadata": {},
   "source": [
    "# <center>Inteligencia Artificial</center>\n",
    "#### <center>Profesor: Dr. Hernán D. Merlino </center>\n",
    "\n",
    "\n",
    "## <center>Trabajo Práctico:</center>\n",
    "### <center>  Generar chistes</center>\n",
    "\n",
    "\n",
    "#### **Integrante:**\n",
    "\n",
    "* Brayan Ricaldi"
   ]
  },
  {
   "cell_type": "markdown",
   "id": "60ea8907-9c01-4e36-bbd0-54f77f431cfd",
   "metadata": {},
   "source": [
    "## Explicacion previa:"
   ]
  },
  {
   "cell_type": "markdown",
   "id": "6f33e335-27a6-48ec-b197-a80bbae73039",
   "metadata": {},
   "source": [
    "Utilizare el tipo de dato Arrow y no Pandas. Por los siguientes motivos:\n",
    "   - Arrow esta diseñado para el procesamiento de datos de alto rendimiento y representa  cada conjunto de datos similar a una tabla con un formato en columna de memoria.\n",
    "   - Permite multiplces procesos sin mover ni copiar los datos, estoo hace que iterar los datos sea realmente rapido.\n",
    "   \n",
    "Por estos motivos he podido crear mi modelo y estudiarlo, sin problemas de memoria.<br>\n",
    "Para mas detalles: https://huggingface.co/course/chapter5/4?fw=pt.\n",
    "\n",
    "Team Arrow!!"
   ]
  },
  {
   "cell_type": "code",
   "execution_count": 1,
   "id": "cc54ec04-ab31-4309-ac78-73aca16879ad",
   "metadata": {},
   "outputs": [],
   "source": [
    "import transformers\n",
    "import matplotlib.pyplot as plt\n",
    "import seaborn as sns"
   ]
  },
  {
   "cell_type": "markdown",
   "id": "7e7fb8a6-127b-4369-8081-b8c1eeea7bc5",
   "metadata": {},
   "source": [
    "## Descargando los datos"
   ]
  },
  {
   "cell_type": "markdown",
   "id": "c045dfee-0be0-4c78-84b2-fad6bdb6d5ae",
   "metadata": {},
   "source": [
    "<p>Para este modelo usare 2 conjunto de datos.</p>\n",
    "<p>Fuente:</p>\n",
    "<ul>\n",
    "    <li><b>ds_1</b>: https://www.kaggle.com/datasets/abhinavmoudgil95/short-jokes?resource=download</li>\n",
    "</ul>"
   ]
  },
  {
   "cell_type": "code",
   "execution_count": 2,
   "id": "e7155887-c767-48a9-9876-ee93f070f0f9",
   "metadata": {},
   "outputs": [],
   "source": [
    "from datasets import load_dataset"
   ]
  },
  {
   "cell_type": "code",
   "execution_count": 3,
   "id": "476521cd-95f4-4bcd-bc70-b4724a5ae5ac",
   "metadata": {},
   "outputs": [
    {
     "name": "stderr",
     "output_type": "stream",
     "text": [
      "Found cached dataset csv (C:/Users/brar2/.cache/huggingface/datasets/csv/default-b9f3f83369114b0d/0.0.0/6b34fb8fcf56f7c8ba51dc895bfa2bfbe43546f190a60fcf74bb5e8afdcc2317)\n"
     ]
    },
    {
     "data": {
      "text/plain": [
       "Dataset({\n",
       "    features: ['ID', 'Joke'],\n",
       "    num_rows: 231657\n",
       "})"
      ]
     },
     "execution_count": 3,
     "metadata": {},
     "output_type": "execute_result"
    }
   ],
   "source": [
    "ds = load_dataset(\n",
    "                    \"csv\",\n",
    "                    data_files=\"./DataSets/shortjokes.csv\",\n",
    "                    split=\"train\"\n",
    "                    )\n",
    "ds"
   ]
  },
  {
   "cell_type": "code",
   "execution_count": 4,
   "id": "34cd4ad1-6fff-413b-970e-a456ff7792ef",
   "metadata": {},
   "outputs": [
    {
     "name": "stderr",
     "output_type": "stream",
     "text": [
      "Loading cached shuffled indices for dataset at C:\\Users\\brar2\\.cache\\huggingface\\datasets\\csv\\default-b9f3f83369114b0d\\0.0.0\\6b34fb8fcf56f7c8ba51dc895bfa2bfbe43546f190a60fcf74bb5e8afdcc2317\\cache-4d4a8d62df80e9e8.arrow\n"
     ]
    },
    {
     "name": "stdout",
     "output_type": "stream",
     "text": [
      "\n",
      ">>> ID: 133560\n",
      ">>> Joke: I'm not John Madden, just John Disappointeden.\n",
      "\n",
      ">>> ID: 229327\n",
      ">>> Joke: Scientists have recently discovered the existence of a mentally unstable microscopic parasite on the moon... Apparently it's a real lunatic\n"
     ]
    }
   ],
   "source": [
    "#Formato usado: Apache Arrow\n",
    "muestra = ds.shuffle(seed=0).select(range(2))\n",
    "\n",
    "for i in muestra:\n",
    "    print(f\"\\n>>> ID: {i['ID']}\")\n",
    "    print(f\">>> Joke: {i['Joke']}\")"
   ]
  },
  {
   "cell_type": "markdown",
   "id": "a9d3cfa1-e432-44a1-ac4b-a47a662236f1",
   "metadata": {},
   "source": [
    "## Estudio del dataSet"
   ]
  },
  {
   "cell_type": "markdown",
   "id": "1f727d58-7b34-48d7-acdc-01fada796183",
   "metadata": {},
   "source": [
    "Convierto el DataSet a formato pandas, para mejor estudio de los datos y visualizaciones."
   ]
  },
  {
   "cell_type": "code",
   "execution_count": 5,
   "id": "5898c2ea-dfbd-4c91-a8d4-7422734d0307",
   "metadata": {},
   "outputs": [],
   "source": [
    "import pandas as pd\n",
    "df = ds.to_pandas()"
   ]
  },
  {
   "cell_type": "markdown",
   "id": "5603329f-ef29-4352-857e-e983a02764db",
   "metadata": {},
   "source": [
    "<p><b>Busco la cantidad de None del dataSet</b></p>"
   ]
  },
  {
   "cell_type": "code",
   "execution_count": 6,
   "id": "7ae54960-31e8-47b8-8911-df766f65835d",
   "metadata": {},
   "outputs": [
    {
     "name": "stdout",
     "output_type": "stream",
     "text": [
      "<class 'pandas.core.frame.DataFrame'>\n",
      "RangeIndex: 231657 entries, 0 to 231656\n",
      "Data columns (total 2 columns):\n",
      " #   Column  Non-Null Count   Dtype \n",
      "---  ------  --------------   ----- \n",
      " 0   ID      231657 non-null  int64 \n",
      " 1   Joke    231657 non-null  object\n",
      "dtypes: int64(1), object(1)\n",
      "memory usage: 3.5+ MB\n"
     ]
    }
   ],
   "source": [
    "df.info()"
   ]
  },
  {
   "cell_type": "markdown",
   "id": "b0753aad-bb7c-4b8e-b29b-b7020e4d7cba",
   "metadata": {},
   "source": [
    "Observo que el dataSet no tiene ningun None, en otras palabras no tiene ningun dato faltante."
   ]
  },
  {
   "cell_type": "markdown",
   "id": "fcb4725f-5bac-452a-a4f9-617f700153c6",
   "metadata": {},
   "source": [
    "<p><b>Busco la cantidad de datos repetidos</b></p>"
   ]
  },
  {
   "cell_type": "code",
   "execution_count": 7,
   "id": "e8130fae-b320-4e81-8aec-0535eb976a1c",
   "metadata": {},
   "outputs": [
    {
     "name": "stdout",
     "output_type": "stream",
     "text": [
      " Cantidad de datos repetidos: 0\n"
     ]
    }
   ],
   "source": [
    "print(f\" Cantidad de datos repetidos: {sum(df.duplicated(keep='first'))}\")"
   ]
  },
  {
   "cell_type": "markdown",
   "id": "cd37fd95-2e4b-4bdf-8d7f-d4069180c90b",
   "metadata": {},
   "source": [
    "No tengo ningun dato repetido."
   ]
  },
  {
   "cell_type": "markdown",
   "id": "a648e5c5-78c7-4149-9552-3c4b25a16e05",
   "metadata": {},
   "source": [
    "<p><b>Estudio la longitud de los chistes</b></p>"
   ]
  },
  {
   "cell_type": "markdown",
   "id": "59eb9abe-0341-4d1f-a409-9519b5dba24c",
   "metadata": {},
   "source": [
    "Ahora voy a estudiar la longitud de los chistes, el separador sera el espacio(\" \").<br>\n",
    "La longitud de cada chiste se consegira con el dataSet tipo Arrow para optimizar la velocidad y la ram."
   ]
  },
  {
   "cell_type": "code",
   "execution_count": 8,
   "id": "bc64c8ff-7e76-4a1e-a01d-a11d23572b69",
   "metadata": {},
   "outputs": [],
   "source": [
    "def longitud(chiste):\n",
    "    return {\"joke_len\": len(chiste[\"Joke\"].split())}"
   ]
  },
  {
   "cell_type": "code",
   "execution_count": 9,
   "id": "d22c8b2e-b391-4673-be5f-ed1247f25691",
   "metadata": {},
   "outputs": [
    {
     "name": "stderr",
     "output_type": "stream",
     "text": [
      "Loading cached processed dataset at C:\\Users\\brar2\\.cache\\huggingface\\datasets\\csv\\default-b9f3f83369114b0d\\0.0.0\\6b34fb8fcf56f7c8ba51dc895bfa2bfbe43546f190a60fcf74bb5e8afdcc2317\\cache-1b084c612300eea2.arrow\n"
     ]
    }
   ],
   "source": [
    "ds = ds.map(longitud)"
   ]
  },
  {
   "cell_type": "code",
   "execution_count": 10,
   "id": "1ee2c64f-f001-4b71-8869-0b26e9413027",
   "metadata": {},
   "outputs": [
    {
     "data": {
      "text/html": [
       "<div>\n",
       "<style scoped>\n",
       "    .dataframe tbody tr th:only-of-type {\n",
       "        vertical-align: middle;\n",
       "    }\n",
       "\n",
       "    .dataframe tbody tr th {\n",
       "        vertical-align: top;\n",
       "    }\n",
       "\n",
       "    .dataframe thead th {\n",
       "        text-align: right;\n",
       "    }\n",
       "</style>\n",
       "<table border=\"1\" class=\"dataframe\">\n",
       "  <thead>\n",
       "    <tr style=\"text-align: right;\">\n",
       "      <th></th>\n",
       "      <th>ID</th>\n",
       "      <th>Joke</th>\n",
       "      <th>joke_len</th>\n",
       "    </tr>\n",
       "  </thead>\n",
       "  <tbody>\n",
       "    <tr>\n",
       "      <th>0</th>\n",
       "      <td>1</td>\n",
       "      <td>[me narrating a documentary about narrators] \"...</td>\n",
       "      <td>15</td>\n",
       "    </tr>\n",
       "    <tr>\n",
       "      <th>1</th>\n",
       "      <td>2</td>\n",
       "      <td>Telling my daughter garlic is good for you. Go...</td>\n",
       "      <td>18</td>\n",
       "    </tr>\n",
       "    <tr>\n",
       "      <th>2</th>\n",
       "      <td>3</td>\n",
       "      <td>I've been going through a really rough period ...</td>\n",
       "      <td>23</td>\n",
       "    </tr>\n",
       "    <tr>\n",
       "      <th>3</th>\n",
       "      <td>4</td>\n",
       "      <td>If I could have dinner with anyone, dead or al...</td>\n",
       "      <td>16</td>\n",
       "    </tr>\n",
       "    <tr>\n",
       "      <th>4</th>\n",
       "      <td>5</td>\n",
       "      <td>Two guys walk into a bar. The third guy ducks.</td>\n",
       "      <td>10</td>\n",
       "    </tr>\n",
       "  </tbody>\n",
       "</table>\n",
       "</div>"
      ],
      "text/plain": [
       "   ID                                               Joke  joke_len\n",
       "0   1  [me narrating a documentary about narrators] \"...        15\n",
       "1   2  Telling my daughter garlic is good for you. Go...        18\n",
       "2   3  I've been going through a really rough period ...        23\n",
       "3   4  If I could have dinner with anyone, dead or al...        16\n",
       "4   5     Two guys walk into a bar. The third guy ducks.        10"
      ]
     },
     "execution_count": 10,
     "metadata": {},
     "output_type": "execute_result"
    }
   ],
   "source": [
    "df = ds.to_pandas()\n",
    "df.head()"
   ]
  },
  {
   "cell_type": "code",
   "execution_count": 11,
   "id": "fc30f31b-47b7-40b3-b50b-8d090912e834",
   "metadata": {},
   "outputs": [
    {
     "data": {
      "text/plain": [
       "Text(0.5, 1.0, 'Longitud de los chistes')"
      ]
     },
     "execution_count": 11,
     "metadata": {},
     "output_type": "execute_result"
    },
    {
     "data": {
      "image/png": "[encoded data removed]",
      "text/plain": [
       "<Figure size 1000x700 with 1 Axes>"
      ]
     },
     "metadata": {},
     "output_type": "display_data"
    }
   ],
   "source": [
    "fig, axes = plt.subplots(nrows=1, ncols=1, dpi=100, figsize=(10, 7))\n",
    "sns.histplot(\n",
    "    x=\"joke_len\",\n",
    "    data=df,\n",
    "    binwidth=5,\n",
    "    color=\"#ffff00\",\n",
    ")\n",
    "axes.set_title(\"Longitud de los chistes\")"
   ]
  },
  {
   "cell_type": "markdown",
   "id": "61f48bd2-14c4-4539-a82e-43d800a7b7ee",
   "metadata": {},
   "source": [
    "Observo que hay chistes de longitud menor a 10 y mayor a 30."
   ]
  },
  {
   "cell_type": "code",
   "execution_count": 12,
   "id": "59d1ab22-c777-47d6-9645-72d6585da928",
   "metadata": {},
   "outputs": [],
   "source": [
    "longitud_minimo_chistes = 10\n",
    "longitud_maximo_chistes = 30"
   ]
  },
  {
   "cell_type": "code",
   "execution_count": 13,
   "id": "06a77d9d-88ce-42dc-93e4-683292e11724",
   "metadata": {},
   "outputs": [
    {
     "data": {
      "text/html": [
       "<div>\n",
       "<style scoped>\n",
       "    .dataframe tbody tr th:only-of-type {\n",
       "        vertical-align: middle;\n",
       "    }\n",
       "\n",
       "    .dataframe tbody tr th {\n",
       "        vertical-align: top;\n",
       "    }\n",
       "\n",
       "    .dataframe thead th {\n",
       "        text-align: right;\n",
       "    }\n",
       "</style>\n",
       "<table border=\"1\" class=\"dataframe\">\n",
       "  <thead>\n",
       "    <tr style=\"text-align: right;\">\n",
       "      <th></th>\n",
       "      <th>ID</th>\n",
       "      <th>Joke</th>\n",
       "      <th>joke_len</th>\n",
       "    </tr>\n",
       "  </thead>\n",
       "  <tbody>\n",
       "    <tr>\n",
       "      <th>6</th>\n",
       "      <td>7</td>\n",
       "      <td>Why was the musician arrested? He got in treble.</td>\n",
       "      <td>9</td>\n",
       "    </tr>\n",
       "    <tr>\n",
       "      <th>14</th>\n",
       "      <td>15</td>\n",
       "      <td>How do you spell Canda? C,eh,N,eh,D,eh</td>\n",
       "      <td>6</td>\n",
       "    </tr>\n",
       "    <tr>\n",
       "      <th>24</th>\n",
       "      <td>25</td>\n",
       "      <td>What do you call a potato in space? Spudnik</td>\n",
       "      <td>9</td>\n",
       "    </tr>\n",
       "    <tr>\n",
       "      <th>25</th>\n",
       "      <td>26</td>\n",
       "      <td>How to get a cop's attention</td>\n",
       "      <td>6</td>\n",
       "    </tr>\n",
       "    <tr>\n",
       "      <th>26</th>\n",
       "      <td>27</td>\n",
       "      <td>What happens to a necrophiliac after death? Re...</td>\n",
       "      <td>8</td>\n",
       "    </tr>\n",
       "    <tr>\n",
       "      <th>...</th>\n",
       "      <td>...</td>\n",
       "      <td>...</td>\n",
       "      <td>...</td>\n",
       "    </tr>\n",
       "    <tr>\n",
       "      <th>231590</th>\n",
       "      <td>231591</td>\n",
       "      <td>What is a gay jew's favourite bank? Goldman Sa...</td>\n",
       "      <td>9</td>\n",
       "    </tr>\n",
       "    <tr>\n",
       "      <th>231594</th>\n",
       "      <td>231595</td>\n",
       "      <td>I'm not racist, but... &amp;gt;[deleted]</td>\n",
       "      <td>5</td>\n",
       "    </tr>\n",
       "    <tr>\n",
       "      <th>231609</th>\n",
       "      <td>231610</td>\n",
       "      <td>Once you go black... ...you're a single mother</td>\n",
       "      <td>8</td>\n",
       "    </tr>\n",
       "    <tr>\n",
       "      <th>231633</th>\n",
       "      <td>231634</td>\n",
       "      <td>What do black people get after death? Nigger M...</td>\n",
       "      <td>9</td>\n",
       "    </tr>\n",
       "    <tr>\n",
       "      <th>231652</th>\n",
       "      <td>231653</td>\n",
       "      <td>The Spicy Sausage by Delia Katessen</td>\n",
       "      <td>6</td>\n",
       "    </tr>\n",
       "  </tbody>\n",
       "</table>\n",
       "<p>23849 rows × 3 columns</p>\n",
       "</div>"
      ],
      "text/plain": [
       "            ID                                               Joke  joke_len\n",
       "6            7   Why was the musician arrested? He got in treble.         9\n",
       "14          15             How do you spell Canda? C,eh,N,eh,D,eh         6\n",
       "24          25        What do you call a potato in space? Spudnik         9\n",
       "25          26                       How to get a cop's attention         6\n",
       "26          27  What happens to a necrophiliac after death? Re...         8\n",
       "...        ...                                                ...       ...\n",
       "231590  231591  What is a gay jew's favourite bank? Goldman Sa...         9\n",
       "231594  231595               I'm not racist, but... &gt;[deleted]         5\n",
       "231609  231610     Once you go black... ...you're a single mother         8\n",
       "231633  231634  What do black people get after death? Nigger M...         9\n",
       "231652  231653                The Spicy Sausage by Delia Katessen         6\n",
       "\n",
       "[23849 rows x 3 columns]"
      ]
     },
     "execution_count": 13,
     "metadata": {},
     "output_type": "execute_result"
    }
   ],
   "source": [
    "df[df[\"joke_len\"] < longitud_minimo_chistes]"
   ]
  },
  {
   "cell_type": "markdown",
   "id": "d6598521-6181-4944-9022-4263901779b3",
   "metadata": {},
   "source": [
    "Me doy cuenta que si son algo chistosos por ejemplo los chistes:\n",
    "   - Canada's navy. (\"La marina de Canada\") #ID = 231575\n",
    "   - Ted Cruz getting elected. (\"Ted Cruz siendo elegido\") #ID = 39"
   ]
  },
  {
   "cell_type": "code",
   "execution_count": 15,
   "id": "a50dcaf5-cb25-40eb-a1b6-133947458594",
   "metadata": {},
   "outputs": [
    {
     "name": "stdout",
     "output_type": "stream",
     "text": [
      "Porcentaje del total de chistes menores a 10: 10.294961948052508%\n",
      "Porcentaje del total de chistes mayores a 30: 0.012950180655020137%\n"
     ]
    }
   ],
   "source": [
    "chistes_menores_diez = df[df[\"joke_len\"] < longitud_minimo_chistes].shape[0]\n",
    "chistes_mayores_treinta = df[df[\"joke_len\"] < longitud_maximo_chistes].shape[0]\n",
    "\n",
    "chistes_total = df.shape[0]\n",
    "print(f\"Porcentaje del total de chistes menores a 10: {(100 * chistes_menores_diez) / chistes_total}%\")\n",
    "print(f\"Porcentaje del total de chistes mayores a 30: {(100 * longitud_maximo_chistes) / chistes_total}%\")"
   ]
  },
  {
   "cell_type": "markdown",
   "id": "0c6d2c94-5547-4fe6-9f04-41b8a5e7885e",
   "metadata": {},
   "source": [
    "<p>Observo que si los elimino perderia menos de 15% de mi dataSet.</p>\n",
    "<p>Optare por eliminarlos.</p>"
   ]
  },
  {
   "cell_type": "code",
   "execution_count": 16,
   "id": "d5acf67f-b940-4f8a-ac84-14812cc32ca7",
   "metadata": {},
   "outputs": [
    {
     "name": "stderr",
     "output_type": "stream",
     "text": [
      "Loading cached processed dataset at C:\\Users\\brar2\\.cache\\huggingface\\datasets\\csv\\default-b9f3f83369114b0d\\0.0.0\\6b34fb8fcf56f7c8ba51dc895bfa2bfbe43546f190a60fcf74bb5e8afdcc2317\\cache-dcf3f13e91b5c5a5.arrow\n",
      "Loading cached processed dataset at C:\\Users\\brar2\\.cache\\huggingface\\datasets\\csv\\default-b9f3f83369114b0d\\0.0.0\\6b34fb8fcf56f7c8ba51dc895bfa2bfbe43546f190a60fcf74bb5e8afdcc2317\\cache-cca407f092ca610e.arrow\n"
     ]
    },
    {
     "data": {
      "text/plain": [
       "Dataset({\n",
       "    features: ['ID', 'Joke', 'joke_len'],\n",
       "    num_rows: 198172\n",
       "})"
      ]
     },
     "execution_count": 16,
     "metadata": {},
     "output_type": "execute_result"
    }
   ],
   "source": [
    "ds = ds.filter(lambda x: x[\"joke_len\"] >= 10)\n",
    "ds = ds.filter(lambda x: x[\"joke_len\"] <= 30)\n",
    "ds"
   ]
  },
  {
   "cell_type": "markdown",
   "id": "311436b4-259b-4e2f-b0d7-1bb92e4bb303",
   "metadata": {},
   "source": [
    "## Preparando los dataSet"
   ]
  },
  {
   "cell_type": "markdown",
   "id": "341ad110-ba90-4614-b907-0b7dc0a090d0",
   "metadata": {},
   "source": [
    "Elimino el feature ID porque no brinda informacion"
   ]
  },
  {
   "cell_type": "code",
   "execution_count": 17,
   "id": "e0a7b453-c134-4c91-bcec-a84aa56d2d56",
   "metadata": {},
   "outputs": [
    {
     "data": {
      "text/plain": [
       "Dataset({\n",
       "    features: ['Joke'],\n",
       "    num_rows: 198172\n",
       "})"
      ]
     },
     "execution_count": 17,
     "metadata": {},
     "output_type": "execute_result"
    }
   ],
   "source": [
    "ds = ds.remove_columns([\"joke_len\", \"ID\"])\n",
    "ds"
   ]
  },
  {
   "cell_type": "markdown",
   "id": "f8c77538-c5a0-41a8-801f-3aa67acb83b1",
   "metadata": {},
   "source": [
    "Cambio el nombre del feature \"Joke\" por \"joke\", por comodidad"
   ]
  },
  {
   "cell_type": "code",
   "execution_count": 18,
   "id": "a6ced9d0-3954-4352-b882-74be5e207853",
   "metadata": {},
   "outputs": [
    {
     "data": {
      "text/plain": [
       "Dataset({\n",
       "    features: ['joke'],\n",
       "    num_rows: 198172\n",
       "})"
      ]
     },
     "execution_count": 18,
     "metadata": {},
     "output_type": "execute_result"
    }
   ],
   "source": [
    "ds = ds.rename_column(\"Joke\", \"joke\")\n",
    "ds"
   ]
  },
  {
   "cell_type": "markdown",
   "id": "32cfd703-b173-4189-bb80-bc06d8772e02",
   "metadata": {},
   "source": [
    "Elimino las etiquetas HTML de los chistes"
   ]
  },
  {
   "cell_type": "code",
   "execution_count": 19,
   "id": "cca1821b-c12e-49e0-84e5-f5b2c9d42cfa",
   "metadata": {},
   "outputs": [
    {
     "name": "stderr",
     "output_type": "stream",
     "text": [
      "Loading cached processed dataset at C:\\Users\\brar2\\.cache\\huggingface\\datasets\\csv\\default-b9f3f83369114b0d\\0.0.0\\6b34fb8fcf56f7c8ba51dc895bfa2bfbe43546f190a60fcf74bb5e8afdcc2317\\cache-c8dc689ba0c5c9a3.arrow\n"
     ]
    },
    {
     "data": {
      "text/plain": [
       "Dataset({\n",
       "    features: ['joke'],\n",
       "    num_rows: 198172\n",
       "})"
      ]
     },
     "execution_count": 19,
     "metadata": {},
     "output_type": "execute_result"
    }
   ],
   "source": [
    "import html\n",
    "ds = ds.map(lambda x: {\"joke\": html.unescape(x[\"joke\"])})\n",
    "ds"
   ]
  },
  {
   "cell_type": "markdown",
   "id": "e10c5a0c-e745-4739-9ce9-92e6a2662d9a",
   "metadata": {},
   "source": [
    "## Dividio el dataSet en train y test"
   ]
  },
  {
   "cell_type": "markdown",
   "id": "0ff7e94e-74a7-46b8-be50-e1951ee3f5e2",
   "metadata": {},
   "source": [
    "Divido el dataSet en 2:\n",
    "   - Train: 70%.\n",
    "   - Test: 30%. <br>\n",
    "\n",
    "Para division sera de forma aleatoria con el parametro shuffle=True."
   ]
  },
  {
   "cell_type": "code",
   "execution_count": 20,
   "id": "9a7e6658-a438-4000-bce0-9d2bc6acf14f",
   "metadata": {},
   "outputs": [
    {
     "name": "stderr",
     "output_type": "stream",
     "text": [
      "Loading cached split indices for dataset at C:\\Users\\brar2\\.cache\\huggingface\\datasets\\csv\\default-b9f3f83369114b0d\\0.0.0\\6b34fb8fcf56f7c8ba51dc895bfa2bfbe43546f190a60fcf74bb5e8afdcc2317\\cache-700cfa569267df7a.arrow and C:\\Users\\brar2\\.cache\\huggingface\\datasets\\csv\\default-b9f3f83369114b0d\\0.0.0\\6b34fb8fcf56f7c8ba51dc895bfa2bfbe43546f190a60fcf74bb5e8afdcc2317\\cache-e64334bb82cacc51.arrow\n"
     ]
    }
   ],
   "source": [
    "ds_joke = ds.train_test_split(\n",
    "                                test_size=0.3, \n",
    "                                shuffle=True,\n",
    "                                seed=1\n",
    "                            )"
   ]
  },
  {
   "cell_type": "code",
   "execution_count": 21,
   "id": "d12ba582-ce22-45c9-ba07-264b3e75a8b6",
   "metadata": {},
   "outputs": [
    {
     "data": {
      "text/plain": [
       "DatasetDict({\n",
       "    train: Dataset({\n",
       "        features: ['joke'],\n",
       "        num_rows: 138720\n",
       "    })\n",
       "    test: Dataset({\n",
       "        features: ['joke'],\n",
       "        num_rows: 59452\n",
       "    })\n",
       "})"
      ]
     },
     "execution_count": 21,
     "metadata": {},
     "output_type": "execute_result"
    }
   ],
   "source": [
    "ds_joke"
   ]
  },
  {
   "cell_type": "markdown",
   "id": "c89711cb-81cd-4dfb-8314-5afc82270719",
   "metadata": {},
   "source": [
    "# Modelo"
   ]
  },
  {
   "cell_type": "markdown",
   "id": "5f6e8661-6fa6-4136-b9f3-4bac6d290dec",
   "metadata": {},
   "source": [
    "## Tokenizacion"
   ]
  },
  {
   "cell_type": "code",
   "execution_count": 22,
   "id": "fb7d3780-cbb4-45f7-862f-d1e0bee61ae5",
   "metadata": {},
   "outputs": [],
   "source": [
    "from transformers import AutoTokenizer"
   ]
  },
  {
   "cell_type": "markdown",
   "id": "8e815d89-6511-469e-b70f-784a42edc2a7",
   "metadata": {},
   "source": [
    "La longitud de los contextos sera de 15, por temas de optimizar la memoria.<br>\n",
    "Si tiene una memoria mayor y un cpu potente lo puede cambiar por 128, 1024 o 2048."
   ]
  },
  {
   "cell_type": "code",
   "execution_count": 23,
   "id": "246e032f-ef4a-4284-8021-b5b126540324",
   "metadata": {},
   "outputs": [],
   "source": [
    "context_length = 15"
   ]
  },
  {
   "cell_type": "markdown",
   "id": "94381703-7dd0-4371-9083-011e920d837a",
   "metadata": {},
   "source": [
    "Longitud del contexto: Cantidad de tokens que debe tener cada chiste. <br>"
   ]
  },
  {
   "cell_type": "markdown",
   "id": "a60200a3-9942-42ce-a4cb-3a1b45da97a9",
   "metadata": {},
   "source": [
    "Descargo un tokenizador ya entrenado.<br>\n",
    "Cada token ya tiene establecido su propio ID <br>\n",
    "Agrego imagen para mejorar explicacion<br>\n",
    "<img src= \"./Imagenes/tokenizacion.png\">"
   ]
  },
  {
   "cell_type": "code",
   "execution_count": 24,
   "id": "4f2284fc-1a37-4e8b-9eb1-d839aee5da95",
   "metadata": {},
   "outputs": [],
   "source": [
    "tokenizer = AutoTokenizer.from_pretrained(\"huggingface-course/code-search-net-tokenizer\")"
   ]
  },
  {
   "cell_type": "code",
   "execution_count": 25,
   "id": "1f4b208f-6e2c-4288-9c6e-85e9b63e5dca",
   "metadata": {},
   "outputs": [
    {
     "name": "stderr",
     "output_type": "stream",
     "text": [
      "Loading cached processed dataset at C:\\Users\\brar2\\.cache\\huggingface\\datasets\\csv\\default-b9f3f83369114b0d\\0.0.0\\6b34fb8fcf56f7c8ba51dc895bfa2bfbe43546f190a60fcf74bb5e8afdcc2317\\cache-958befb19eaa461f.arrow\n",
      "Loading cached processed dataset at C:\\Users\\brar2\\.cache\\huggingface\\datasets\\csv\\default-b9f3f83369114b0d\\0.0.0\\6b34fb8fcf56f7c8ba51dc895bfa2bfbe43546f190a60fcf74bb5e8afdcc2317\\cache-6ebd73fd10590ed4.arrow\n"
     ]
    },
    {
     "data": {
      "text/plain": [
       "DatasetDict({\n",
       "    train: Dataset({\n",
       "        features: ['input_ids'],\n",
       "        num_rows: 138720\n",
       "    })\n",
       "    test: Dataset({\n",
       "        features: ['input_ids'],\n",
       "        num_rows: 59452\n",
       "    })\n",
       "})"
      ]
     },
     "execution_count": 25,
     "metadata": {},
     "output_type": "execute_result"
    }
   ],
   "source": [
    "def tokenize_function(examples):\n",
    "    outputs = tokenizer(\n",
    "        examples[\"joke\"], \n",
    "        truncation=False,#True\n",
    "        return_overflowing_tokens=True,\n",
    "        return_length=True,\n",
    "        add_special_tokens=True,\n",
    "        max_length=context_length,\n",
    "    )\n",
    "    \n",
    "    input_batch = []\n",
    "    for length, input_ids in zip(outputs[\"length\"], outputs[\"input_ids\"]):\n",
    "        input_batch.append(input_ids + [tokenizer.eos_token_id])\n",
    "        #if length == 15:\n",
    "        #input_batch.append(input_ids)\n",
    "    return {\"input_ids\": input_batch}\n",
    "\n",
    "\n",
    "\n",
    "# Use batched=True to activate fast multithreading!\n",
    "tokenized_datasets = ds_joke.map(\n",
    "    tokenize_function, batched=True, remove_columns=ds_joke[\"train\"].column_names)\n",
    "tokenized_datasets"
   ]
  },
  {
   "cell_type": "markdown",
   "id": "f00574f4-6ae8-4484-bc68-533b750e3077",
   "metadata": {},
   "source": [
    "Voy a estudiar la longitud de los tokens."
   ]
  },
  {
   "cell_type": "markdown",
   "id": "b2d2dd60-0165-41ed-a423-38ad3ca28be0",
   "metadata": {},
   "source": [
    "Imprimo la cantidad de tokens de los 15 1eros chistes."
   ]
  },
  {
   "cell_type": "code",
   "execution_count": 26,
   "id": "4b743cb5-f375-4a1c-a32a-f4453a75e2e8",
   "metadata": {},
   "outputs": [
    {
     "name": "stdout",
     "output_type": "stream",
     "text": [
      "'>>> Review 0 length: 28'\n",
      "'>>> Review 1 length: 30'\n",
      "'>>> Review 2 length: 18'\n",
      "'>>> Review 3 length: 31'\n",
      "'>>> Review 4 length: 39'\n",
      "'>>> Review 5 length: 18'\n",
      "'>>> Review 6 length: 23'\n",
      "'>>> Review 7 length: 23'\n",
      "'>>> Review 8 length: 34'\n",
      "'>>> Review 9 length: 22'\n",
      "'>>> Review 10 length: 21'\n",
      "'>>> Review 11 length: 26'\n",
      "'>>> Review 12 length: 33'\n",
      "'>>> Review 13 length: 17'\n",
      "'>>> Review 14 length: 52'\n"
     ]
    }
   ],
   "source": [
    "tokenized_samples = tokenized_datasets[\"train\"][:15]\n",
    "\n",
    "for idx, sample in enumerate(tokenized_samples[\"input_ids\"]):\n",
    "    print(f\"'>>> Review {idx} length: {len(sample)}'\")"
   ]
  },
  {
   "cell_type": "markdown",
   "id": "c032f32e-a629-491c-8ff8-5f27dacdebbb",
   "metadata": {},
   "source": [
    "Como se menciono anteriormente, voy a trabajar con un contexto de 15 tokens, asi que debo hacer que cada chiste tenga 15 tokens ni mas ni menos.<br>\n",
    "Pero eso es un problema, ya que estamos observando que los 1eros 15 chistes estan compuestos por mas de 15 tokens.<br>"
   ]
  },
  {
   "cell_type": "markdown",
   "id": "31e0b10d-1dab-4fcf-a201-dd3ca0d0bdc7",
   "metadata": {},
   "source": [
    "Imagen de ejemplo para explicar el problema<br>\n",
    "<img src=\"./Imagenes/tokenizacionProblema.png\">"
   ]
  },
  {
   "cell_type": "markdown",
   "id": "b0d1e40c-b8c4-430f-bdef-d98a38d50881",
   "metadata": {},
   "source": [
    "<h3><b>¿Que se podra hacer? </b></h3>\n",
    "<p>Tenemos 4 posibles soluciones:<p>\n",
    "<ol>\n",
    "   <li> Solo quedarnos con los chistes formados por 15 tokens.</li>\n",
    "   <li> Solo quedarnos con los chistes mayores o igual a 15 tokens, y luego truncar su valores(solo quedarme con los 1ero 15 tokens).</li>\n",
    "   <li> Modificiar la longitud del contexto, un valor menor como ya vimos que los 1eros 15 chistes son de una longitud muy menor a 15, podemos cambiar el contexto a 20.\n",
    "   <li> Concatenar todos los chistes y luego dividirlo en segmentos de 15 tokens.\n",
    "</ol>\n",
    "<p><b>Problemas:</b></p>\n",
    "<ul>\n",
    "    <li> Las soluciones 1 y 2 no serian las mas convenientes para nuestro problema, ya vimos que los 1eros 15 chistes eran menores a 15 tokens, perderiamos muchos datos al solo quedarme con los chistes largos.\n",
    "    <li> Con la solucion 3 no perderia datos pero si contexto en los chistes, al solo quedarme con la parte inicial los chistes perderian significado.\n",
    "    <li> La solucion 4 es la mejor. Ahora se explicara el <b>porque</b>.\n",
    "</ul>\n"
   ]
  },
  {
   "cell_type": "code",
   "execution_count": 27,
   "id": "a4758485-8463-49ba-b47b-21a887375dbf",
   "metadata": {},
   "outputs": [
    {
     "name": "stdout",
     "output_type": "stream",
     "text": [
      "'>>> Concatenated reviews length: 415'\n"
     ]
    }
   ],
   "source": [
    "concatenated_examples = {\n",
    "    k: sum(tokenized_samples[k], []) for k in tokenized_samples.keys()\n",
    "}\n",
    "total_length = len(concatenated_examples[\"input_ids\"])\n",
    "print(f\"'>>> Concatenated reviews length: {total_length}'\")"
   ]
  },
  {
   "cell_type": "code",
   "execution_count": 28,
   "id": "c43c7f9c-149a-429a-ace9-f2fedbea8ca4",
   "metadata": {},
   "outputs": [],
   "source": [
    "chunk_size = context_length"
   ]
  },
  {
   "cell_type": "markdown",
   "id": "5e4ee987-8c1e-4096-8d74-1f364f469ad5",
   "metadata": {},
   "source": [
    "Una forma sencilla seria unir los tokens"
   ]
  },
  {
   "cell_type": "code",
   "execution_count": 29,
   "id": "c93b1616-7185-4fa8-a550-752701c01f80",
   "metadata": {},
   "outputs": [
    {
     "name": "stdout",
     "output_type": "stream",
     "text": [
      "'>>> Chunk length: 15'\n",
      "'>>> Chunk length: 15'\n",
      "'>>> Chunk length: 15'\n",
      "'>>> Chunk length: 15'\n",
      "'>>> Chunk length: 15'\n",
      "'>>> Chunk length: 15'\n",
      "'>>> Chunk length: 15'\n",
      "'>>> Chunk length: 15'\n",
      "'>>> Chunk length: 15'\n",
      "'>>> Chunk length: 15'\n",
      "'>>> Chunk length: 15'\n",
      "'>>> Chunk length: 15'\n",
      "'>>> Chunk length: 15'\n",
      "'>>> Chunk length: 15'\n",
      "'>>> Chunk length: 15'\n",
      "'>>> Chunk length: 15'\n",
      "'>>> Chunk length: 15'\n",
      "'>>> Chunk length: 15'\n",
      "'>>> Chunk length: 15'\n",
      "'>>> Chunk length: 15'\n",
      "'>>> Chunk length: 15'\n",
      "'>>> Chunk length: 15'\n",
      "'>>> Chunk length: 15'\n",
      "'>>> Chunk length: 15'\n",
      "'>>> Chunk length: 15'\n",
      "'>>> Chunk length: 15'\n",
      "'>>> Chunk length: 15'\n",
      "'>>> Chunk length: 10'\n"
     ]
    }
   ],
   "source": [
    "chunks = {\n",
    "    k: [t[i : i + chunk_size] for i in range(0, total_length, chunk_size)]\n",
    "    for k, t in concatenated_examples.items()\n",
    "}\n",
    "\n",
    "for chunk in chunks[\"input_ids\"]:\n",
    "    print(f\"'>>> Chunk length: {len(chunk)}'\")"
   ]
  },
  {
   "cell_type": "markdown",
   "id": "9c21f4ee-2042-42b7-bae2-41e661de7c12",
   "metadata": {},
   "source": [
    "<p> Observo que el ultimo dato, tiene 10 tokens. </p>\n",
    "<p>Tenemos 2 posibles soluciones.</p>\n",
    "<ol>\n",
    "    <li> Completar el dato con id que significan \"vacio\", para Arrow el 0 es el id vacio</li>\n",
    "    <li> ELiminar el dato</li>\n",
    "</ol>\n",
    "<p>En este caso se elegira la opcion 2.</p>"
   ]
  },
  {
   "cell_type": "markdown",
   "id": "592fd4b8-c4b9-40f5-aeeb-d66590c7e44f",
   "metadata": {},
   "source": [
    "Ahora recreare todo lo hecho con el dataSet completo."
   ]
  },
  {
   "cell_type": "code",
   "execution_count": 32,
   "id": "7bad9d39-6e0d-44ed-8c46-fad1a2d060c7",
   "metadata": {},
   "outputs": [],
   "source": [
    "def group_texts(examples):\n",
    "    # Concateno todo el texto\n",
    "    concatenated_examples = {k: sum(examples[k], []) for k in examples.keys()}\n",
    "    # Calculo la longitud de los textos concatenados\n",
    "    total_length = len(concatenated_examples[list(examples.keys())[0]])\n",
    "    # Si el ultimo fragmento es mas pequenio que la \"longitud del contexto\" sera eliminado.\n",
    "    total_length = (total_length // chunk_size) * chunk_size\n",
    "    # Hago un split del tamanio de la \"longitud del contexto\"\n",
    "    result = {\n",
    "        k: [t[i : i + chunk_size] for i in range(0, total_length, chunk_size)]\n",
    "        for k, t in concatenated_examples.items()\n",
    "    }\n",
    "    return result"
   ]
  },
  {
   "cell_type": "code",
   "execution_count": 33,
   "id": "03aaeea4-c2af-416e-a79d-a8b5d897af56",
   "metadata": {},
   "outputs": [
    {
     "name": "stderr",
     "output_type": "stream",
     "text": [
      "Loading cached processed dataset at C:\\Users\\brar2\\.cache\\huggingface\\datasets\\csv\\default-b9f3f83369114b0d\\0.0.0\\6b34fb8fcf56f7c8ba51dc895bfa2bfbe43546f190a60fcf74bb5e8afdcc2317\\cache-2516ce7e9bd29845.arrow\n",
      "Loading cached processed dataset at C:\\Users\\brar2\\.cache\\huggingface\\datasets\\csv\\default-b9f3f83369114b0d\\0.0.0\\6b34fb8fcf56f7c8ba51dc895bfa2bfbe43546f190a60fcf74bb5e8afdcc2317\\cache-06e649359957e52e.arrow\n"
     ]
    },
    {
     "data": {
      "text/plain": [
       "DatasetDict({\n",
       "    train: Dataset({\n",
       "        features: ['input_ids'],\n",
       "        num_rows: 261662\n",
       "    })\n",
       "    test: Dataset({\n",
       "        features: ['input_ids'],\n",
       "        num_rows: 112207\n",
       "    })\n",
       "})"
      ]
     },
     "execution_count": 33,
     "metadata": {},
     "output_type": "execute_result"
    }
   ],
   "source": [
    "df_tokenizado = tokenized_datasets.map(group_texts, batched=True)\n",
    "df_tokenizado"
   ]
  },
  {
   "cell_type": "markdown",
   "id": "80a3b955-9e5d-4385-a2c0-f8506d5d4087",
   "metadata": {},
   "source": [
    "<h3>¿Por que la solucion 4 funciona?</h3>"
   ]
  },
  {
   "cell_type": "markdown",
   "id": "710e939e-f880-431d-9eae-47ecf7b397ae",
   "metadata": {},
   "source": [
    "<p>No solo se concatenara los chistes, sino tambien nuestro modelo gpt2(Spolier!) se dara cuenta que cada data no es un solo chiste, sino que pueden ser varios y los tomara por separado</p>\n",
    "<p><b>Y como se da cuenta cuando termina uno y comienza el siguiente chistes?</b></p>\n",
    "<p>Por el caracter especial del tokenizador eos_token, que fue agregado cuando tokenizamos en el siguiente codigo:</p>\n",
    "<ul>\n",
    "    <li>input_batch.append(input_ids + <b>[tokenizer.eos_token_id]</b>)</li>\n",
    "</ul>\n",
    "</p>Su representacion es de la siguiente forma:</p>\n",
    "<ul>\n",
    "    <li>>>> Texto: <|endoftext|> </li>\n",
    "    <li>>>> ID: 0</li>\n",
    "</ul>"
   ]
  },
  {
   "cell_type": "markdown",
   "id": "92fe0397-c2c8-4cff-a348-3fe310348528",
   "metadata": {},
   "source": [
    "Lo vamos a observar en nuestro 1er dato"
   ]
  },
  {
   "cell_type": "code",
   "execution_count": 34,
   "id": "22de0077-86c6-4bda-88fe-9aa6ac0a073d",
   "metadata": {},
   "outputs": [
    {
     "data": {
      "text/plain": [
       "'Stevie Wonder was in a horrendous car accident the other'"
      ]
     },
     "execution_count": 34,
     "metadata": {},
     "output_type": "execute_result"
    }
   ],
   "source": [
    "tokenizer.decode(df_tokenizado[\"train\"][0][\"input_ids\"])"
   ]
  },
  {
   "cell_type": "code",
   "execution_count": 36,
   "id": "e918022f-9737-4e61-a947-00744fd52056",
   "metadata": {},
   "outputs": [
    {
     "name": "stdout",
     "output_type": "stream",
     "text": [
      "Ids del 1er dato: [7007, 14, 865, 320, 27716, 1657, 48946, 1906, 17840, 262, 4321, 14, 0, 20, 15]\n",
      "Posiciones del 0: [12]\n"
     ]
    }
   ],
   "source": [
    "ids = list(df_tokenizado[\"train\"][1][\"input_ids\"])\n",
    "i_cero = [i for i, dato in enumerate(ids) if dato == 0]\n",
    "print(f\"Ids del 1er dato: {ids}\")\n",
    "print(f\"Posiciones del 0: {i_cero}\")"
   ]
  },
  {
   "cell_type": "markdown",
   "id": "d4d1a782-efc8-4c86-a564-8c3cc4474672",
   "metadata": {},
   "source": [
    "Observamos que en nuestro 2do dato hay 1 ceros, en otras palabras hay 2 chistes fragmentados."
   ]
  },
  {
   "cell_type": "markdown",
   "id": "8866dd02-532d-4c13-98a0-785d3d09ba01",
   "metadata": {},
   "source": [
    "Un breve repaso de lo sucedido<br>\n",
    "<img src=\"./Imagenes/tokenizacionSolucion4.png\">"
   ]
  },
  {
   "cell_type": "markdown",
   "id": "97fe2c9c-a15c-4488-a0d8-0b3d213fe0c4",
   "metadata": {},
   "source": [
    "# Modelo"
   ]
  },
  {
   "cell_type": "markdown",
   "id": "eb873cab-80a3-4ea5-be39-2ba9b817e25d",
   "metadata": {},
   "source": [
    "<p>Inicializo un nuevo modelo de GPT2, con las configuracion que estoy usando.</p>\n",
    "<ul>\n",
    "    <li> La longitud de contexto en 15.</li>\n",
    "    <li> La longitud del vocabulario igual al tokenizador. </li>\n",
    "    <li> La separacion de los chistes con eos_token_id.</li>\n",
    "</ul>"
   ]
  },
  {
   "cell_type": "markdown",
   "id": "ffe61580-ef12-47e2-a2aa-55bb29e75a9b",
   "metadata": {},
   "source": [
    "<b>Configuro y creo el modelo</b>"
   ]
  },
  {
   "cell_type": "code",
   "execution_count": null,
   "id": "cb867ef8-846b-463b-9a43-0811825baef2",
   "metadata": {},
   "outputs": [],
   "source": [
    "from transformers import AutoTokenizer, GPT2LMHeadModel, AutoConfig\n",
    "\n",
    "config = AutoConfig.from_pretrained(\n",
    "    \"gpt2\",\n",
    "    vocab_size=len(tokenizer),\n",
    "    n_ctx=context_length,\n",
    "    bos_token_id=tokenizer.bos_token_id,\n",
    "    eos_token_id=tokenizer.eos_token_id,\n",
    ")\n",
    "model = GPT2LMHeadModel(config)"
   ]
  },
  {
   "cell_type": "markdown",
   "id": "d4a75252-f02d-425c-ac5a-924add697d79",
   "metadata": {},
   "source": [
    "Observo la cantidad de parametros a entrenar del modelo."
   ]
  },
  {
   "cell_type": "code",
   "execution_count": null,
   "id": "a2d7fe5c-2d84-454a-9bfd-8dbfd1f2bd30",
   "metadata": {},
   "outputs": [],
   "source": [
    "model_size = sum(t.numel() for t in model.parameters())\n",
    "print(f\"GPT-2 size: {model_size/1000**2:.1f}M parametros\")"
   ]
  },
  {
   "cell_type": "markdown",
   "id": "e284538f-dfc8-430a-8b3f-137a30c15b91",
   "metadata": {},
   "source": [
    "<b>Creo el DataCollator para el modelo.</b>"
   ]
  },
  {
   "cell_type": "code",
   "execution_count": null,
   "id": "c7895d62-2449-4b98-8375-203d2bd39279",
   "metadata": {},
   "outputs": [],
   "source": [
    "from transformers import DataCollatorForLanguageModeling \n",
    "\n",
    "tokenizer.pad_token = tokenizer.eos_token \n",
    "data_collator = DataCollatorForLanguageModeling(tokenizer, \n",
    "                                                mlm= False # True: Si es para un modelo de lenguaje enmascarado  \n",
    "                                               )"
   ]
  },
  {
   "cell_type": "code",
   "execution_count": null,
   "id": "fcc8cf56-bc9e-4a5a-a087-234edb49fb95",
   "metadata": {},
   "outputs": [],
   "source": [
    "out = data_collator([tokenized_datasets[\"train\"][i] for i in range(5)])\n",
    "for key in out:\n",
    "    print(f\"{key} shape: {out[key].shape}\")"
   ]
  },
  {
   "cell_type": "markdown",
   "id": "9f8064e3-3c04-4330-a1f4-591a1ed0241f",
   "metadata": {},
   "source": [
    "Inicio accion en huggingface para tener acceso al modelo gpt-2 y poder guardarlo en un servidor remoto."
   ]
  },
  {
   "cell_type": "code",
   "execution_count": null,
   "id": "bb311815-73ff-4752-aa38-d96109844038",
   "metadata": {},
   "outputs": [],
   "source": [
    "from huggingface_hub import notebook_login\n",
    "\n",
    "notebook_login()"
   ]
  },
  {
   "cell_type": "markdown",
   "id": "141def76-3964-47ff-b4ac-cd7cf5fa0b73",
   "metadata": {},
   "source": [
    "Activo cuda para poder usar el GPU."
   ]
  },
  {
   "cell_type": "code",
   "execution_count": null,
   "id": "37bf348c-4a0a-4c3e-a1d1-75f348d3e364",
   "metadata": {},
   "outputs": [],
   "source": [
    "import torch\n",
    "device = 'cpu'\n",
    "if torch.cuda.is_available():\n",
    "    device = 'cuda'"
   ]
  },
  {
   "cell_type": "markdown",
   "id": "4fdde778-c892-420d-9398-25c261cda8b3",
   "metadata": {},
   "source": [
    "Verifico que este usando el gpu."
   ]
  },
  {
   "cell_type": "code",
   "execution_count": null,
   "id": "25ebec0f-3a34-4532-b94e-7d486fc086ca",
   "metadata": {},
   "outputs": [],
   "source": [
    "import torch\n",
    "print(f\"Is Cuda available: {torch.cuda.is_available()}\")\n",
    "print(f\"CUDA device: {torch.cuda.get_device_name(torch.cuda.current_device)}\")"
   ]
  },
  {
   "cell_type": "markdown",
   "id": "144ec165-05e0-49d4-bdcf-21561a59b67f",
   "metadata": {},
   "source": [
    "<b>Inicializo los argumentos del entrenamiento.</b>"
   ]
  },
  {
   "cell_type": "code",
   "execution_count": null,
   "id": "289b1022-e2b3-4520-a1c1-b311e0d64168",
   "metadata": {},
   "outputs": [],
   "source": [
    "from transformers import Trainer, TrainingArguments\n",
    "\n",
    "args = TrainingArguments(\n",
    "    output_dir=\"br_CLM\",\n",
    "    per_device_train_batch_size=8,\n",
    "    per_device_eval_batch_size=8,\n",
    "    evaluation_strategy=\"steps\",\n",
    "    eval_steps=5_000,\n",
    "    logging_steps=5_000,\n",
    "    gradient_accumulation_steps=8,\n",
    "    num_train_epochs=1,\n",
    "    weight_decay=0.1,\n",
    "    warmup_steps=1_000,\n",
    "    lr_scheduler_type=\"cosine\",\n",
    "    learning_rate=5e-4,\n",
    "    save_steps=5_000,\n",
    "    fp16=True, #Importante: SOlo descomentar si tenes GPU\n",
    "    push_to_hub=True,\n",
    ")\n",
    "\n",
    "trainer = Trainer(\n",
    "    model=model,\n",
    "    tokenizer=tokenizer,\n",
    "    args=args,\n",
    "    data_collator=data_collator,\n",
    "    train_dataset=tokenized_datasets[\"train\"],\n",
    "    eval_dataset=tokenized_datasets[\"test\"],\n",
    ")"
   ]
  },
  {
   "cell_type": "markdown",
   "id": "a6a9fd09-e5f4-46fb-a99c-260b79cc9c5f",
   "metadata": {},
   "source": [
    "Entreno el modelo"
   ]
  },
  {
   "cell_type": "code",
   "execution_count": null,
   "id": "47e5ffde-c3e6-4224-b4d2-2fed2a2bfab0",
   "metadata": {},
   "outputs": [],
   "source": [
    "trainer.train()"
   ]
  },
  {
   "cell_type": "code",
   "execution_count": null,
   "id": "6f70af5c-f6af-4a98-8d3f-97c91323e9d3",
   "metadata": {},
   "outputs": [],
   "source": [
    "trainer"
   ]
  },
  {
   "cell_type": "markdown",
   "id": "153a64af-6a51-4ff5-a80c-b66593566740",
   "metadata": {},
   "source": [
    "Subo el modelo al repositorio de huggingface, para no volver a entrenarlo nuevamente."
   ]
  },
  {
   "cell_type": "code",
   "execution_count": null,
   "id": "46921608-b892-4e21-9fd3-e8baf69813ab",
   "metadata": {},
   "outputs": [],
   "source": [
    "trainer.push_to_hub()"
   ]
  },
  {
   "cell_type": "markdown",
   "id": "d07259af-63c5-489e-824d-0797b54bc751",
   "metadata": {},
   "source": [
    "# Modelo listo!"
   ]
  },
  {
   "cell_type": "markdown",
   "id": "654ce820-5941-46ab-96d3-89c83f49688d",
   "metadata": {},
   "source": [
    "<p>Ya tenemos el modelo creado y subido a un repositorio remoto.</p>\n",
    "<p>Para usarlo desde cualquier pc necesitaremos descargarlo y crear una funcion amistosa para el llamado.</p>"
   ]
  },
  {
   "cell_type": "code",
   "execution_count": 18,
   "id": "11eeacbf-a87c-4a53-95a5-b6447db972de",
   "metadata": {},
   "outputs": [],
   "source": [
    "from transformers import pipeline\n",
    "import torch\n",
    "\n",
    "pipe = pipeline(\n",
    "    \"text-generation\", model=\"Br22/br_CLM\"#, device=torch.device(0), descomentar si tenes GPU\n",
    ")"
   ]
  },
  {
   "cell_type": "markdown",
   "id": "be18ab3d-4e13-4c5e-b02d-4034e67b4dd0",
   "metadata": {},
   "source": [
    "Funcion amistosa para generar chistes con interfaz en espaniol."
   ]
  },
  {
   "cell_type": "code",
   "execution_count": 53,
   "id": "3f833a2b-2e69-4eac-b5c7-dae7efde09f4",
   "metadata": {},
   "outputs": [],
   "source": [
    "from textblob import TextBlob \n",
    "from colorama import init as colorama_init\n",
    "from colorama import Fore\n",
    "from colorama import Style\n",
    "\n",
    "def print_chistes(pipe, texto):\n",
    "    texto_es = TextBlob(texto) \n",
    "    texto_en = str(texto_es.translate(from_lang='es', to='en'))\n",
    "    \n",
    "    print(f\"{Fore.GREEN}>>> Cadena recibida en español:{Style.RESET_ALL} {texto_es}\")\n",
    "    print(f\"{Fore.GREEN}>>> Cadena traducida a ingles:{Style.RESET_ALL} {texto_en}\")\n",
    "    \n",
    "    chistes_generados = pipe(texto_en, max_new_tokens=40, pad_token_id=0, num_return_sequences=1)\n",
    "    chiste = chistes_generados[0][\"generated_text\"]\n",
    "    \n",
    "    chiste_en = TextBlob(chiste)\n",
    "    chiste_es = str(chiste_en.translate(from_lang='en', to='es'))\n",
    "    \n",
    "    print(\"\")\n",
    "    print(f\"{Fore.GREEN}>>> Chiste generado:{Style.RESET_ALL}, {chiste}\")\n",
    "    print(f\"{Fore.GREEN}>>> Chiste traducido:{Style.RESET_ALL}, {chiste_es}\")"
   ]
  },
  {
   "cell_type": "code",
   "execution_count": 58,
   "id": "367d0228-0cfd-4e5a-9e3a-05bd588342b0",
   "metadata": {},
   "outputs": [
    {
     "name": "stdout",
     "output_type": "stream",
     "text": [
      "\u001b[32m>>> Cadena recibida en español:\u001b[0m La universidad\n",
      "\u001b[32m>>> Cadena traducida a ingles:\u001b[0m University\n",
      "\n",
      "\u001b[32m>>> Chiste generado:\u001b[0m, University walks into a bar, says, \"I could have to help my coffee in here\" I'd have to see myself in my ear. A minor. (That's an Englishman for\n",
      "\u001b[32m>>> Chiste traducido:\u001b[0m, La universidad entra en un bar, dice: \"Podría tener que ayudar a mi café aquí\" Tendría que verme en mi oído. Un menor de edad. (Ese es un inglés para\n"
     ]
    }
   ],
   "source": [
    "print_chistes(pipe, \"La universidad\")"
   ]
  }
 ],
 "metadata": {
  "kernelspec": {
   "display_name": "Python 3 (ipykernel)",
   "language": "python",
   "name": "python3"
  },
  "language_info": {
   "codemirror_mode": {
    "name": "ipython",
    "version": 3
   },
   "file_extension": ".py",
   "mimetype": "text/x-python",
   "name": "python",
   "nbconvert_exporter": "python",
   "pygments_lexer": "ipython3",
   "version": "3.9.13"
  }
 },
 "nbformat": 4,
 "nbformat_minor": 5
}
