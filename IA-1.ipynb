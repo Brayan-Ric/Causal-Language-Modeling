{
 "cells": [
  {
   "cell_type": "markdown",
   "id": "d437bd6e-a4b8-48cd-8d7f-a12d52f17f01",
   "metadata": {},
   "source": [
    "# <center>Inteligencia Artificial</center>\n",
    "#### <center>Profesor: Dr. Hernán D. Merlino </center>\n",
    "\n",
    "\n",
    "## <center>Trabajo Práctico:</center>\n",
    "### <center>  Generar chistes</center>\n",
    "\n",
    "\n",
    "#### **Integrante:**\n",
    "\n",
    "* Brayan Ricaldi"
   ]
  },
  {
   "cell_type": "markdown",
   "id": "60ea8907-9c01-4e36-bbd0-54f77f431cfd",
   "metadata": {},
   "source": [
    "## Explicacion previa:"
   ]
  },
  {
   "cell_type": "markdown",
   "id": "6f33e335-27a6-48ec-b197-a80bbae73039",
   "metadata": {},
   "source": [
    "Utilizare el tipo de dato Arrow y no Pandas. Por los siguientes motivos:\n",
    "   - Arrow esta diseñado para el procesamiento de datos de alto rendimiento y representa  cada conjunto de datos similar a una tabla con un formato en columna de memoria.\n",
    "   - Permite multiplces procesos sin mover ni copiar los datos, estoo hace que iterar los datos sea realmente rapido.\n",
    "   \n",
    "Por estos motivos he podido crear mi modelo y estudiarlo, sin problemas de memoria.<br>\n",
    "Para mas detalles: https://huggingface.co/course/chapter5/4?fw=pt.\n",
    "\n",
    "Team Arrow!!"
   ]
  },
  {
   "cell_type": "code",
   "execution_count": 1,
   "id": "cc54ec04-ab31-4309-ac78-73aca16879ad",
   "metadata": {},
   "outputs": [],
   "source": [
    "import transformers\n",
    "import matplotlib.pyplot as plt\n",
    "import seaborn as sns"
   ]
  },
  {
   "cell_type": "code",
   "execution_count": 2,
   "id": "553a410d-d139-4b46-a5bc-9f1361cea5eb",
   "metadata": {},
   "outputs": [],
   "source": [
    "#import torch\n",
    "#device = 'cpu'\n",
    "#if torch.cuda.is_available():\n",
    "#    device = 'cuda'"
   ]
  },
  {
   "cell_type": "markdown",
   "id": "7e7fb8a6-127b-4369-8081-b8c1eeea7bc5",
   "metadata": {},
   "source": [
    "## Descargando los datos"
   ]
  },
  {
   "cell_type": "markdown",
   "id": "c045dfee-0be0-4c78-84b2-fad6bdb6d5ae",
   "metadata": {},
   "source": [
    "<p>Para este modelo usare 2 conjuntos de datos y los voy a concatenar.</p>\n",
    "<p>Fuentes:</p>\n",
    "<ul>\n",
    "    <li><b>ds_1</b>: https://www.kaggle.com/datasets/abhinavmoudgil95/short-jokes?resource=download</li>\n",
    "    <li><b>ds_2</b>: https://www.kaggle.com/datasets/averkij/reddit-jokes-dataset </li>\n",
    "</ul>"
   ]
  },
  {
   "cell_type": "code",
   "execution_count": 3,
   "id": "e7155887-c767-48a9-9876-ee93f070f0f9",
   "metadata": {},
   "outputs": [],
   "source": [
    "from datasets import load_dataset"
   ]
  },
  {
   "cell_type": "code",
   "execution_count": 4,
   "id": "476521cd-95f4-4bcd-bc70-b4724a5ae5ac",
   "metadata": {},
   "outputs": [
    {
     "name": "stderr",
     "output_type": "stream",
     "text": [
      "Found cached dataset csv (C:/Users/brar2/.cache/huggingface/datasets/csv/default-b9f3f83369114b0d/0.0.0/6b34fb8fcf56f7c8ba51dc895bfa2bfbe43546f190a60fcf74bb5e8afdcc2317)\n"
     ]
    },
    {
     "data": {
      "text/plain": [
       "Dataset({\n",
       "    features: ['ID', 'Joke'],\n",
       "    num_rows: 231657\n",
       "})"
      ]
     },
     "execution_count": 4,
     "metadata": {},
     "output_type": "execute_result"
    }
   ],
   "source": [
    "ds_1 = load_dataset(\n",
    "                    \"csv\",\n",
    "                    data_files=\"./DataSets/shortjokes.csv\",\n",
    "                    split=\"train\"\n",
    "                    )\n",
    "ds_1"
   ]
  },
  {
   "cell_type": "code",
   "execution_count": 5,
   "id": "34cd4ad1-6fff-413b-970e-a456ff7792ef",
   "metadata": {},
   "outputs": [
    {
     "name": "stderr",
     "output_type": "stream",
     "text": [
      "Loading cached shuffled indices for dataset at C:\\Users\\brar2\\.cache\\huggingface\\datasets\\csv\\default-b9f3f83369114b0d\\0.0.0\\6b34fb8fcf56f7c8ba51dc895bfa2bfbe43546f190a60fcf74bb5e8afdcc2317\\cache-4d4a8d62df80e9e8.arrow\n"
     ]
    },
    {
     "name": "stdout",
     "output_type": "stream",
     "text": [
      "\n",
      ">>> ID: 133560\n",
      ">>> Joke: I'm not John Madden, just John Disappointeden.\n",
      "\n",
      ">>> ID: 229327\n",
      ">>> Joke: Scientists have recently discovered the existence of a mentally unstable microscopic parasite on the moon... Apparently it's a real lunatic\n"
     ]
    }
   ],
   "source": [
    "#Formato usado: Apache Arrow\n",
    "muestra = ds_1.shuffle(seed=0).select(range(2))\n",
    "\n",
    "for i in muestra:\n",
    "    print(f\"\\n>>> ID: {i['ID']}\")\n",
    "    print(f\">>> Joke: {i['Joke']}\")"
   ]
  },
  {
   "cell_type": "code",
   "execution_count": 6,
   "id": "8c8966a0-4188-40a7-8e8a-9984d7531ded",
   "metadata": {},
   "outputs": [
    {
     "name": "stderr",
     "output_type": "stream",
     "text": [
      "Found cached dataset json (C:/Users/brar2/.cache/huggingface/datasets/json/default-49fc99d429098b7c/0.0.0/0f7e3662623656454fcd2b650f34e886a7db4b9104504885bd462096cc7a9f51)\n"
     ]
    },
    {
     "data": {
      "text/plain": [
       "Dataset({\n",
       "    features: ['body', 'id', 'score', 'title'],\n",
       "    num_rows: 194553\n",
       "})"
      ]
     },
     "execution_count": 6,
     "metadata": {},
     "output_type": "execute_result"
    }
   ],
   "source": [
    "ds_2 = load_dataset(\n",
    "                    \"json\", \n",
    "                    data_files=\"./DataSets/reddit_jokes.json\", \n",
    "                    split=\"train\"\n",
    "                    )\n",
    "ds_2"
   ]
  },
  {
   "cell_type": "code",
   "execution_count": 7,
   "id": "213858bc-3439-4ac5-8bc2-d1c860b3f4ff",
   "metadata": {},
   "outputs": [
    {
     "name": "stderr",
     "output_type": "stream",
     "text": [
      "Loading cached shuffled indices for dataset at C:\\Users\\brar2\\.cache\\huggingface\\datasets\\json\\default-49fc99d429098b7c\\0.0.0\\0f7e3662623656454fcd2b650f34e886a7db4b9104504885bd462096cc7a9f51\\cache-61a61a8165bbf5d6.arrow\n"
     ]
    },
    {
     "name": "stdout",
     "output_type": "stream",
     "text": [
      ">>> Body: A paragraph because hes not quite yet an essay.\n",
      ">>> Id: 32viwk\n",
      ">>> Score: 19\n",
      ">>> Title: What do you call a short Mexican?\n",
      "\n",
      ">>> Body: The circus has cunning stunts.\n",
      ">>> Id: 5r6xj3\n",
      ">>> Score: 1\n",
      ">>> Title: What's the difference between a circus and a strip club?\n",
      "\n"
     ]
    }
   ],
   "source": [
    "muestra = ds_2.shuffle(seed=0).select(range(2))\n",
    "\n",
    "for i in muestra:\n",
    "    print(f\">>> Body: {i['body']}\")\n",
    "    print(f\">>> Id: {i['id']}\")\n",
    "    print(f\">>> Score: {i['score']}\")\n",
    "    print(f\">>> Title: {i['title']}\\n\")"
   ]
  },
  {
   "cell_type": "markdown",
   "id": "4773cc56-12a5-45ad-ab9d-dc2cc9cbbd6d",
   "metadata": {},
   "source": [
    "Para concatenarlos, debo tener los mismos features en los mismos dataSet"
   ]
  },
  {
   "cell_type": "code",
   "execution_count": 8,
   "id": "3553dd77-3dbe-4bb0-ac6c-3c9e31619b04",
   "metadata": {},
   "outputs": [],
   "source": [
    "#Elimino los feature id, score, tittle de ds_2\n",
    "ds_2 = ds_2.remove_columns([\"score\", \"title\", \"id\"])\n",
    "#Cambio el nombre body por Joke\n",
    "ds_2 = ds_2.rename_column(\"body\", \"Joke\")\n",
    "#Elimino el feature ID de ds_2\n",
    "ds_1 = ds_1.remove_columns([\"ID\"])"
   ]
  },
  {
   "cell_type": "markdown",
   "id": "db9ba26a-98c2-43cc-9f8c-022ca108e525",
   "metadata": {},
   "source": [
    "Ahora los concateno y los reorganizo aleatoriamente"
   ]
  },
  {
   "cell_type": "code",
   "execution_count": 9,
   "id": "b4edce66-2e5c-4598-b7de-6bcc0737ae5f",
   "metadata": {},
   "outputs": [
    {
     "name": "stderr",
     "output_type": "stream",
     "text": [
      "Loading cached shuffled indices for dataset at C:\\Users\\brar2\\.cache\\huggingface\\datasets\\csv\\default-b9f3f83369114b0d\\0.0.0\\6b34fb8fcf56f7c8ba51dc895bfa2bfbe43546f190a60fcf74bb5e8afdcc2317\\cache-17deb29ecbda3f75.arrow\n"
     ]
    },
    {
     "data": {
      "text/plain": [
       "Dataset({\n",
       "    features: ['Joke'],\n",
       "    num_rows: 426210\n",
       "})"
      ]
     },
     "execution_count": 9,
     "metadata": {},
     "output_type": "execute_result"
    }
   ],
   "source": [
    "from datasets import concatenate_datasets\n",
    "ds = concatenate_datasets([ds_1, ds_2])\n",
    "ds = ds.shuffle(seed=0)\n",
    "ds"
   ]
  },
  {
   "cell_type": "code",
   "execution_count": 10,
   "id": "9c5a1418-b64d-4935-8fd1-e98148933054",
   "metadata": {},
   "outputs": [
    {
     "name": "stderr",
     "output_type": "stream",
     "text": [
      "Loading cached shuffled indices for dataset at C:\\Users\\brar2\\.cache\\huggingface\\datasets\\csv\\default-b9f3f83369114b0d\\0.0.0\\6b34fb8fcf56f7c8ba51dc895bfa2bfbe43546f190a60fcf74bb5e8afdcc2317\\cache-06d80c4dfe3e892b.arrow\n"
     ]
    },
    {
     "name": "stdout",
     "output_type": "stream",
     "text": [
      ">>> Joke: The worst part about going to concerts is realizing people you'd otherwise think are freaks actually share your taste in music.\n",
      ">>> Joke: What does MSG stand for? Mandarin Service Guaranteed.\n",
      ">>> Joke: because there's something standig in my pants for you!\n",
      ">>> Joke: Who do ghosts worship? Boo, DUH!!!\n",
      ">>> Joke: Me\n"
     ]
    }
   ],
   "source": [
    "muestra = ds.shuffle(seed=0).select(range(5))\n",
    "\n",
    "for i in muestra:\n",
    "    print(f\">>> Joke: {i['Joke']}\")"
   ]
  },
  {
   "cell_type": "markdown",
   "id": "a9d3cfa1-e432-44a1-ac4b-a47a662236f1",
   "metadata": {},
   "source": [
    "## Estudio del dataSet"
   ]
  },
  {
   "cell_type": "markdown",
   "id": "1f727d58-7b34-48d7-acdc-01fada796183",
   "metadata": {},
   "source": [
    "Convierto el DataSet a formato pandas, para mejor estudio de los datos y visualizaciones."
   ]
  },
  {
   "cell_type": "code",
   "execution_count": 11,
   "id": "5898c2ea-dfbd-4c91-a8d4-7422734d0307",
   "metadata": {},
   "outputs": [],
   "source": [
    "import pandas as pd\n",
    "df = ds.to_pandas()"
   ]
  },
  {
   "cell_type": "markdown",
   "id": "5603329f-ef29-4352-857e-e983a02764db",
   "metadata": {},
   "source": [
    "<p><b>Busco la cantidad de None del dataSet</b></p>"
   ]
  },
  {
   "cell_type": "code",
   "execution_count": 12,
   "id": "7ae54960-31e8-47b8-8911-df766f65835d",
   "metadata": {},
   "outputs": [
    {
     "name": "stdout",
     "output_type": "stream",
     "text": [
      "<class 'pandas.core.frame.DataFrame'>\n",
      "RangeIndex: 426210 entries, 0 to 426209\n",
      "Data columns (total 1 columns):\n",
      " #   Column  Non-Null Count   Dtype \n",
      "---  ------  --------------   ----- \n",
      " 0   Joke    426210 non-null  object\n",
      "dtypes: object(1)\n",
      "memory usage: 3.3+ MB\n"
     ]
    }
   ],
   "source": [
    "df.info()"
   ]
  },
  {
   "cell_type": "markdown",
   "id": "b0753aad-bb7c-4b8e-b29b-b7020e4d7cba",
   "metadata": {},
   "source": [
    "Observo que el dataSet no tiene ningun None, en otras palabras no tiene ningun dato faltante."
   ]
  },
  {
   "cell_type": "markdown",
   "id": "fcb4725f-5bac-452a-a4f9-617f700153c6",
   "metadata": {},
   "source": [
    "<p><b>Busco la cantidad de datos repetidos</b></p>"
   ]
  },
  {
   "cell_type": "code",
   "execution_count": 13,
   "id": "e8130fae-b320-4e81-8aec-0535eb976a1c",
   "metadata": {},
   "outputs": [
    {
     "name": "stdout",
     "output_type": "stream",
     "text": [
      " Cantidad de datos repetidos: 17723\n"
     ]
    }
   ],
   "source": [
    "print(f\" Cantidad de datos repetidos: {sum(df.duplicated(keep='first'))}\")"
   ]
  },
  {
   "cell_type": "code",
   "execution_count": 14,
   "id": "f0217881-f699-45af-bfdb-0bf6799b8c65",
   "metadata": {},
   "outputs": [],
   "source": [
    "df.drop_duplicates(inplace=True)"
   ]
  },
  {
   "cell_type": "code",
   "execution_count": 15,
   "id": "c2942c24-ac98-4f6d-86a0-49abfe7e9504",
   "metadata": {},
   "outputs": [
    {
     "data": {
      "text/plain": [
       "408487"
      ]
     },
     "execution_count": 15,
     "metadata": {},
     "output_type": "execute_result"
    }
   ],
   "source": [
    "len(df)"
   ]
  },
  {
   "cell_type": "markdown",
   "id": "a648e5c5-78c7-4149-9552-3c4b25a16e05",
   "metadata": {},
   "source": [
    "<p><b>Estudio la longitud de los chistes</b></p>"
   ]
  },
  {
   "cell_type": "markdown",
   "id": "59eb9abe-0341-4d1f-a409-9519b5dba24c",
   "metadata": {},
   "source": [
    "Ahora voy a estudiar la longitud de los chistes, el separador sera el espacio(\" \").<br>\n",
    "La longitud de cada chiste se consegira con el dataSet tipo Arrow para optimizar la velocidad y la ram."
   ]
  },
  {
   "cell_type": "code",
   "execution_count": 16,
   "id": "6071877e-9d3b-4fe0-bec0-6e472fef5455",
   "metadata": {},
   "outputs": [
    {
     "data": {
      "text/plain": [
       "Dataset({\n",
       "    features: ['Joke'],\n",
       "    num_rows: 408487\n",
       "})"
      ]
     },
     "execution_count": 16,
     "metadata": {},
     "output_type": "execute_result"
    }
   ],
   "source": [
    "from datasets import Dataset, DatasetDict\n",
    "ds = Dataset.from_pandas(df, split='train')\n",
    "ds = ds.remove_columns([\"__index_level_0__\"])#Cuando pasas de pandas --> Arrow, se crea un feature index\n",
    "ds"
   ]
  },
  {
   "cell_type": "code",
   "execution_count": 17,
   "id": "bc64c8ff-7e76-4a1e-a01d-a11d23572b69",
   "metadata": {},
   "outputs": [],
   "source": [
    "def longitud(chiste):\n",
    "    return {\"joke_len\": len(chiste[\"Joke\"].split())}"
   ]
  },
  {
   "cell_type": "code",
   "execution_count": 18,
   "id": "d22c8b2e-b391-4673-be5f-ed1247f25691",
   "metadata": {},
   "outputs": [
    {
     "data": {
      "application/vnd.jupyter.widget-view+json": {
       "model_id": "",
       "version_major": 2,
       "version_minor": 0
      },
      "text/plain": [
       "Map:   0%|          | 0/408487 [00:00<?, ? examples/s]"
      ]
     },
     "metadata": {},
     "output_type": "display_data"
    }
   ],
   "source": [
    "ds = ds.map(longitud)"
   ]
  },
  {
   "cell_type": "code",
   "execution_count": 19,
   "id": "1ee2c64f-f001-4b71-8869-0b26e9413027",
   "metadata": {},
   "outputs": [
    {
     "data": {
      "text/html": [
       "<div>\n",
       "<style scoped>\n",
       "    .dataframe tbody tr th:only-of-type {\n",
       "        vertical-align: middle;\n",
       "    }\n",
       "\n",
       "    .dataframe tbody tr th {\n",
       "        vertical-align: top;\n",
       "    }\n",
       "\n",
       "    .dataframe thead th {\n",
       "        text-align: right;\n",
       "    }\n",
       "</style>\n",
       "<table border=\"1\" class=\"dataframe\">\n",
       "  <thead>\n",
       "    <tr style=\"text-align: right;\">\n",
       "      <th></th>\n",
       "      <th>Joke</th>\n",
       "      <th>joke_len</th>\n",
       "    </tr>\n",
       "  </thead>\n",
       "  <tbody>\n",
       "    <tr>\n",
       "      <th>0</th>\n",
       "      <td>Lost dog. Missing: Three-legged dog. Distingui...</td>\n",
       "      <td>12</td>\n",
       "    </tr>\n",
       "    <tr>\n",
       "      <th>1</th>\n",
       "      <td>A blond is done with all the blond jokes. So s...</td>\n",
       "      <td>236</td>\n",
       "    </tr>\n",
       "    <tr>\n",
       "      <th>2</th>\n",
       "      <td>Me: What's with the look? Hub: How would you l...</td>\n",
       "      <td>27</td>\n",
       "    </tr>\n",
       "    <tr>\n",
       "      <th>3</th>\n",
       "      <td>Sarah Millican just called Stephen Hawking a g...</td>\n",
       "      <td>9</td>\n",
       "    </tr>\n",
       "    <tr>\n",
       "      <th>4</th>\n",
       "      <td></td>\n",
       "      <td>0</td>\n",
       "    </tr>\n",
       "  </tbody>\n",
       "</table>\n",
       "</div>"
      ],
      "text/plain": [
       "                                                Joke  joke_len\n",
       "0  Lost dog. Missing: Three-legged dog. Distingui...        12\n",
       "1  A blond is done with all the blond jokes. So s...       236\n",
       "2  Me: What's with the look? Hub: How would you l...        27\n",
       "3  Sarah Millican just called Stephen Hawking a g...         9\n",
       "4                                                            0"
      ]
     },
     "execution_count": 19,
     "metadata": {},
     "output_type": "execute_result"
    }
   ],
   "source": [
    "df = ds.to_pandas()\n",
    "df.head()"
   ]
  },
  {
   "cell_type": "code",
   "execution_count": 20,
   "id": "fc30f31b-47b7-40b3-b50b-8d090912e834",
   "metadata": {},
   "outputs": [
    {
     "data": {
      "text/plain": [
       "Text(0.5, 1.0, 'Longitud de los chistes')"
      ]
     },
     "execution_count": 20,
     "metadata": {},
     "output_type": "execute_result"
    },
    {
     "data": {
      "image/png": "[encoded data removed]",
      "text/plain": [
       "<Figure size 1000x700 with 1 Axes>"
      ]
     },
     "metadata": {},
     "output_type": "display_data"
    }
   ],
   "source": [
    "fig, axes = plt.subplots(nrows=1, ncols=1, dpi=100, figsize=(10, 7))\n",
    "sns.histplot(\n",
    "    x=\"joke_len\",\n",
    "    data=df,\n",
    "    binwidth=5,\n",
    "    color=\"#ffff00\",\n",
    ")\n",
    "axes.set_title(\"Longitud de los chistes\")"
   ]
  },
  {
   "cell_type": "markdown",
   "id": "61f48bd2-14c4-4539-a82e-43d800a7b7ee",
   "metadata": {},
   "source": [
    "Observo que hay chistes de longitud menor a 5 y mayor a 1000."
   ]
  },
  {
   "cell_type": "markdown",
   "id": "5e99de5f-0910-4627-96a7-d1c320c8b605",
   "metadata": {},
   "source": [
    "Chistes con longitud menor a 5"
   ]
  },
  {
   "cell_type": "code",
   "execution_count": 21,
   "id": "59d1ab22-c777-47d6-9645-72d6585da928",
   "metadata": {},
   "outputs": [],
   "source": [
    "longitud_minima_chistes = 10"
   ]
  },
  {
   "cell_type": "code",
   "execution_count": 22,
   "id": "06a77d9d-88ce-42dc-93e4-683292e11724",
   "metadata": {},
   "outputs": [
    {
     "data": {
      "text/html": [
       "<div>\n",
       "<style scoped>\n",
       "    .dataframe tbody tr th:only-of-type {\n",
       "        vertical-align: middle;\n",
       "    }\n",
       "\n",
       "    .dataframe tbody tr th {\n",
       "        vertical-align: top;\n",
       "    }\n",
       "\n",
       "    .dataframe thead th {\n",
       "        text-align: right;\n",
       "    }\n",
       "</style>\n",
       "<table border=\"1\" class=\"dataframe\">\n",
       "  <thead>\n",
       "    <tr style=\"text-align: right;\">\n",
       "      <th></th>\n",
       "      <th>Joke</th>\n",
       "      <th>joke_len</th>\n",
       "    </tr>\n",
       "  </thead>\n",
       "  <tbody>\n",
       "    <tr>\n",
       "      <th>3</th>\n",
       "      <td>Sarah Millican just called Stephen Hawking a g...</td>\n",
       "      <td>9</td>\n",
       "    </tr>\n",
       "    <tr>\n",
       "      <th>4</th>\n",
       "      <td></td>\n",
       "      <td>0</td>\n",
       "    </tr>\n",
       "    <tr>\n",
       "      <th>12</th>\n",
       "      <td>It goes chew chew..</td>\n",
       "      <td>4</td>\n",
       "    </tr>\n",
       "    <tr>\n",
       "      <th>19</th>\n",
       "      <td>.</td>\n",
       "      <td>1</td>\n",
       "    </tr>\n",
       "    <tr>\n",
       "      <th>20</th>\n",
       "      <td>So you know my pull out game is strong.</td>\n",
       "      <td>9</td>\n",
       "    </tr>\n",
       "  </tbody>\n",
       "</table>\n",
       "</div>"
      ],
      "text/plain": [
       "                                                 Joke  joke_len\n",
       "3   Sarah Millican just called Stephen Hawking a g...         9\n",
       "4                                                             0\n",
       "12                                It goes chew chew..         4\n",
       "19                                                  .         1\n",
       "20            So you know my pull out game is strong.         9"
      ]
     },
     "execution_count": 22,
     "metadata": {},
     "output_type": "execute_result"
    }
   ],
   "source": [
    "df[df[\"joke_len\"] < longitud_minima_chistes].head()"
   ]
  },
  {
   "cell_type": "code",
   "execution_count": 23,
   "id": "105c4ed9-dc3c-4b53-b99f-561e27e9ffde",
   "metadata": {},
   "outputs": [],
   "source": [
    "longitud_maxima_chistes = 25"
   ]
  },
  {
   "cell_type": "code",
   "execution_count": 24,
   "id": "8d726580-8c0f-4503-95c3-36143000f89b",
   "metadata": {},
   "outputs": [
    {
     "data": {
      "text/html": [
       "<div>\n",
       "<style scoped>\n",
       "    .dataframe tbody tr th:only-of-type {\n",
       "        vertical-align: middle;\n",
       "    }\n",
       "\n",
       "    .dataframe tbody tr th {\n",
       "        vertical-align: top;\n",
       "    }\n",
       "\n",
       "    .dataframe thead th {\n",
       "        text-align: right;\n",
       "    }\n",
       "</style>\n",
       "<table border=\"1\" class=\"dataframe\">\n",
       "  <thead>\n",
       "    <tr style=\"text-align: right;\">\n",
       "      <th></th>\n",
       "      <th>Joke</th>\n",
       "      <th>joke_len</th>\n",
       "    </tr>\n",
       "  </thead>\n",
       "  <tbody>\n",
       "    <tr>\n",
       "      <th>1</th>\n",
       "      <td>A blond is done with all the blond jokes. So s...</td>\n",
       "      <td>236</td>\n",
       "    </tr>\n",
       "    <tr>\n",
       "      <th>2</th>\n",
       "      <td>Me: What's with the look? Hub: How would you l...</td>\n",
       "      <td>27</td>\n",
       "    </tr>\n",
       "    <tr>\n",
       "      <th>5</th>\n",
       "      <td>You know, after all these years, I hardly reme...</td>\n",
       "      <td>31</td>\n",
       "    </tr>\n",
       "    <tr>\n",
       "      <th>9</th>\n",
       "      <td>Wife: How's the baby? Me: He keeps trying to s...</td>\n",
       "      <td>27</td>\n",
       "    </tr>\n",
       "    <tr>\n",
       "      <th>14</th>\n",
       "      <td>and orders a bowl of beer nuts from the barten...</td>\n",
       "      <td>130</td>\n",
       "    </tr>\n",
       "  </tbody>\n",
       "</table>\n",
       "</div>"
      ],
      "text/plain": [
       "                                                 Joke  joke_len\n",
       "1   A blond is done with all the blond jokes. So s...       236\n",
       "2   Me: What's with the look? Hub: How would you l...        27\n",
       "5   You know, after all these years, I hardly reme...        31\n",
       "9   Wife: How's the baby? Me: He keeps trying to s...        27\n",
       "14  and orders a bowl of beer nuts from the barten...       130"
      ]
     },
     "execution_count": 24,
     "metadata": {},
     "output_type": "execute_result"
    }
   ],
   "source": [
    "df[df[\"joke_len\"] > longitud_maxima_chistes].head()"
   ]
  },
  {
   "cell_type": "markdown",
   "id": "d6598521-6181-4944-9022-4263901779b3",
   "metadata": {},
   "source": [
    "Estudio la cantidad de estos chistes, para ver si los puedo eliminar.\n",
    "Mis argumento para eliminarlos, seria que los chistes muy cortos y muy largos"
   ]
  },
  {
   "cell_type": "code",
   "execution_count": 25,
   "id": "a50dcaf5-cb25-40eb-a1b6-133947458594",
   "metadata": {},
   "outputs": [
    {
     "name": "stdout",
     "output_type": "stream",
     "text": [
      "Porcentaje del total de chistes menores a 5: 28.011662549848587%\n",
      "Porcentaje del total de chistes mayores a 100: 19.764154061206355%\n"
     ]
    }
   ],
   "source": [
    "chistes_menores_cinco = df[df[\"joke_len\"] < longitud_minima_chistes].shape[0]\n",
    "chistes_mayores_cien = df[df[\"joke_len\"] > longitud_maxima_chistes].shape[0]\n",
    "chistes_total = df.shape[0]\n",
    "print(f\"Porcentaje del total de chistes menores a 5: {(100 * chistes_menores_cinco) / chistes_total}%\")\n",
    "print(f\"Porcentaje del total de chistes mayores a 100: {(100 * chistes_mayores_cien) / chistes_total}%\")"
   ]
  },
  {
   "cell_type": "markdown",
   "id": "0c6d2c94-5547-4fe6-9f04-41b8a5e7885e",
   "metadata": {},
   "source": [
    "<p>Observo que si los elimino perderia un 15% de mi dataSet.</p>\n",
    "<p>Pasare a elimininarlos, mi justificacion sera.</p>\n",
    "<ul>\n",
    "    <li><b>Chistes menores a 5:</b> Al ser chistes muy cortos no tienen un sentido de gracia muy definido, son entendidos ccon un contexto dado(que en este caso no los tenemos).</li>\n",
    "    <li><b>Chistes mayores a 100:</b> Son chistes, no explicaciones de fisica.</li>\n",
    "</ul>"
   ]
  },
  {
   "cell_type": "code",
   "execution_count": 26,
   "id": "ee1f1a71-6af2-4479-bd47-4c05fa4e7f71",
   "metadata": {},
   "outputs": [
    {
     "data": {
      "application/vnd.jupyter.widget-view+json": {
       "model_id": "",
       "version_major": 2,
       "version_minor": 0
      },
      "text/plain": [
       "Filter:   0%|          | 0/408487 [00:00<?, ? examples/s]"
      ]
     },
     "metadata": {},
     "output_type": "display_data"
    },
    {
     "data": {
      "application/vnd.jupyter.widget-view+json": {
       "model_id": "",
       "version_major": 2,
       "version_minor": 0
      },
      "text/plain": [
       "Filter:   0%|          | 0/294063 [00:00<?, ? examples/s]"
      ]
     },
     "metadata": {},
     "output_type": "display_data"
    }
   ],
   "source": [
    "ds = ds.filter(lambda x: x[\"joke_len\"] >= longitud_minima_chistes)\n",
    "ds = ds.filter(lambda x: x[\"joke_len\"] <= longitud_maxima_chistes)"
   ]
  },
  {
   "cell_type": "code",
   "execution_count": 27,
   "id": "9eb67eb8-8200-40fe-8687-48a51a6093af",
   "metadata": {},
   "outputs": [
    {
     "data": {
      "text/plain": [
       "Dataset({\n",
       "    features: ['Joke', 'joke_len'],\n",
       "    num_rows: 213329\n",
       "})"
      ]
     },
     "execution_count": 27,
     "metadata": {},
     "output_type": "execute_result"
    }
   ],
   "source": [
    "ds"
   ]
  },
  {
   "cell_type": "markdown",
   "id": "305608a4-e73f-4988-a5ce-3350c21a613e",
   "metadata": {},
   "source": [
    "Grafico nuevamente para ver la longitud de los chistes."
   ]
  },
  {
   "cell_type": "code",
   "execution_count": 28,
   "id": "5383c370-f6c4-4d03-94b8-e9e66c7dee60",
   "metadata": {},
   "outputs": [
    {
     "data": {
      "text/plain": [
       "Text(0.5, 1.0, 'Longitud de los chistes')"
      ]
     },
     "execution_count": 28,
     "metadata": {},
     "output_type": "execute_result"
    },
    {
     "data": {
      "image/png": "[encoded data removed]",
      "text/plain": [
       "<Figure size 1000x700 with 1 Axes>"
      ]
     },
     "metadata": {},
     "output_type": "display_data"
    }
   ],
   "source": [
    "df = ds.to_pandas()\n",
    "fig, axes = plt.subplots(nrows=1, ncols=1, dpi=100, figsize=(10, 7))\n",
    "sns.histplot(\n",
    "    x=\"joke_len\",\n",
    "    data=df,\n",
    "    binwidth=5,\n",
    "    color=\"#ffff00\",\n",
    ")\n",
    "axes.set_title(\"Longitud de los chistes\")"
   ]
  },
  {
   "cell_type": "markdown",
   "id": "311436b4-259b-4e2f-b0d7-1bb92e4bb303",
   "metadata": {},
   "source": [
    "## Preparando los dataSet"
   ]
  },
  {
   "cell_type": "markdown",
   "id": "341ad110-ba90-4614-b907-0b7dc0a090d0",
   "metadata": {},
   "source": [
    "Elimino el feature ID porque no brinda informacion"
   ]
  },
  {
   "cell_type": "code",
   "execution_count": 29,
   "id": "e0a7b453-c134-4c91-bcec-a84aa56d2d56",
   "metadata": {},
   "outputs": [
    {
     "data": {
      "text/plain": [
       "Dataset({\n",
       "    features: ['Joke'],\n",
       "    num_rows: 213329\n",
       "})"
      ]
     },
     "execution_count": 29,
     "metadata": {},
     "output_type": "execute_result"
    }
   ],
   "source": [
    "ds = ds.remove_columns([\"joke_len\"])\n",
    "ds"
   ]
  },
  {
   "cell_type": "markdown",
   "id": "f8c77538-c5a0-41a8-801f-3aa67acb83b1",
   "metadata": {},
   "source": [
    "Cambio el nombre del feature \"Joke\" por \"joke\", por comodidad"
   ]
  },
  {
   "cell_type": "code",
   "execution_count": 30,
   "id": "a6ced9d0-3954-4352-b882-74be5e207853",
   "metadata": {},
   "outputs": [
    {
     "data": {
      "text/plain": [
       "Dataset({\n",
       "    features: ['joke'],\n",
       "    num_rows: 213329\n",
       "})"
      ]
     },
     "execution_count": 30,
     "metadata": {},
     "output_type": "execute_result"
    }
   ],
   "source": [
    "ds = ds.rename_column(\"Joke\", \"joke\")\n",
    "ds"
   ]
  },
  {
   "cell_type": "markdown",
   "id": "32cfd703-b173-4189-bb80-bc06d8772e02",
   "metadata": {},
   "source": [
    "Elimino las etiquetas HTML de los chistes"
   ]
  },
  {
   "cell_type": "code",
   "execution_count": 31,
   "id": "cca1821b-c12e-49e0-84e5-f5b2c9d42cfa",
   "metadata": {},
   "outputs": [
    {
     "data": {
      "application/vnd.jupyter.widget-view+json": {
       "model_id": "",
       "version_major": 2,
       "version_minor": 0
      },
      "text/plain": [
       "Map:   0%|          | 0/213329 [00:00<?, ? examples/s]"
      ]
     },
     "metadata": {},
     "output_type": "display_data"
    },
    {
     "data": {
      "text/plain": [
       "Dataset({\n",
       "    features: ['joke'],\n",
       "    num_rows: 213329\n",
       "})"
      ]
     },
     "execution_count": 31,
     "metadata": {},
     "output_type": "execute_result"
    }
   ],
   "source": [
    "import html\n",
    "ds = ds.map(lambda x: {\"joke\": html.unescape(x[\"joke\"])})\n",
    "ds"
   ]
  },
  {
   "cell_type": "markdown",
   "id": "e10c5a0c-e745-4739-9ce9-92e6a2662d9a",
   "metadata": {},
   "source": [
    "## Dividio el dataSet en train y test"
   ]
  },
  {
   "cell_type": "markdown",
   "id": "0ff7e94e-74a7-46b8-be50-e1951ee3f5e2",
   "metadata": {},
   "source": [
    "Divido el dataSet en 2:\n",
    "   - Train: 70%.\n",
    "   - Test: 30%. <br>\n",
    "\n",
    "Para division sera de forma aleatoria con el parametro shuffle=True."
   ]
  },
  {
   "cell_type": "code",
   "execution_count": 32,
   "id": "9a7e6658-a438-4000-bce0-9d2bc6acf14f",
   "metadata": {},
   "outputs": [],
   "source": [
    "ds_joke = ds.train_test_split(\n",
    "                                test_size=0.3, \n",
    "                                shuffle=True,\n",
    "                                seed=1\n",
    "                            )"
   ]
  },
  {
   "cell_type": "code",
   "execution_count": 33,
   "id": "d12ba582-ce22-45c9-ba07-264b3e75a8b6",
   "metadata": {},
   "outputs": [
    {
     "data": {
      "text/plain": [
       "DatasetDict({\n",
       "    train: Dataset({\n",
       "        features: ['joke'],\n",
       "        num_rows: 149330\n",
       "    })\n",
       "    test: Dataset({\n",
       "        features: ['joke'],\n",
       "        num_rows: 63999\n",
       "    })\n",
       "})"
      ]
     },
     "execution_count": 33,
     "metadata": {},
     "output_type": "execute_result"
    }
   ],
   "source": [
    "ds_joke"
   ]
  },
  {
   "cell_type": "markdown",
   "id": "c89711cb-81cd-4dfb-8314-5afc82270719",
   "metadata": {},
   "source": [
    "# Modelo"
   ]
  },
  {
   "cell_type": "markdown",
   "id": "5f6e8661-6fa6-4136-b9f3-4bac6d290dec",
   "metadata": {},
   "source": [
    "## Tokenizacion"
   ]
  },
  {
   "cell_type": "code",
   "execution_count": 34,
   "id": "fb7d3780-cbb4-45f7-862f-d1e0bee61ae5",
   "metadata": {},
   "outputs": [],
   "source": [
    "from transformers import AutoTokenizer"
   ]
  },
  {
   "cell_type": "markdown",
   "id": "8e815d89-6511-469e-b70f-784a42edc2a7",
   "metadata": {},
   "source": [
    "La longitud de los contextos sera de 128, por temas de optimizar la memoria.<br>\n",
    "Si tiene una memoria mayor y un cpu potente lo puede cambiar por 1024 o 2048."
   ]
  },
  {
   "cell_type": "code",
   "execution_count": 35,
   "id": "246e032f-ef4a-4284-8021-b5b126540324",
   "metadata": {},
   "outputs": [],
   "source": [
    "context_length = 32"
   ]
  },
  {
   "cell_type": "markdown",
   "id": "94381703-7dd0-4371-9083-011e920d837a",
   "metadata": {},
   "source": [
    "Longitud del contexto: Cantidad de tokens que debe tener la oracion. <br>\n",
    "#Importante: AGREGAR IMAGEN DE EXPLICACION."
   ]
  },
  {
   "cell_type": "markdown",
   "id": "a60200a3-9942-42ce-a4cb-3a1b45da97a9",
   "metadata": {},
   "source": [
    "Descargo un tokenizador ya entrenado.<br>\n",
    "Cada token ya tiene establecido su propio ID <br>\n",
    "#IMPORTANTE: AGREGAR IMAGEN EXPLICANDO ESTE PROCESO"
   ]
  },
  {
   "cell_type": "code",
   "execution_count": 36,
   "id": "4f2284fc-1a37-4e8b-9eb1-d839aee5da95",
   "metadata": {},
   "outputs": [],
   "source": [
    "tokenizer = AutoTokenizer.from_pretrained(\"huggingface-course/code-search-net-tokenizer\")"
   ]
  },
  {
   "cell_type": "code",
   "execution_count": 37,
   "id": "1f4b208f-6e2c-4288-9c6e-85e9b63e5dca",
   "metadata": {},
   "outputs": [
    {
     "data": {
      "application/vnd.jupyter.widget-view+json": {
       "model_id": "",
       "version_major": 2,
       "version_minor": 0
      },
      "text/plain": [
       "Map:   0%|          | 0/149330 [00:00<?, ? examples/s]"
      ]
     },
     "metadata": {},
     "output_type": "display_data"
    },
    {
     "data": {
      "application/vnd.jupyter.widget-view+json": {
       "model_id": "",
       "version_major": 2,
       "version_minor": 0
      },
      "text/plain": [
       "Map:   0%|          | 0/63999 [00:00<?, ? examples/s]"
      ]
     },
     "metadata": {},
     "output_type": "display_data"
    },
    {
     "data": {
      "text/plain": [
       "DatasetDict({\n",
       "    train: Dataset({\n",
       "        features: ['input_ids'],\n",
       "        num_rows: 149330\n",
       "    })\n",
       "    test: Dataset({\n",
       "        features: ['input_ids'],\n",
       "        num_rows: 63999\n",
       "    })\n",
       "})"
      ]
     },
     "execution_count": 37,
     "metadata": {},
     "output_type": "execute_result"
    }
   ],
   "source": [
    "def tokenize_function(examples):\n",
    "    outputs = tokenizer(\n",
    "        examples[\"joke\"], \n",
    "        truncation=False,#True\n",
    "        return_overflowing_tokens=True,\n",
    "        return_length=True,\n",
    "        add_special_tokens=True,\n",
    "        max_length=context_length,\n",
    "    )\n",
    "    \n",
    "    input_batch = []\n",
    "    for length, input_ids in zip(outputs[\"length\"], outputs[\"input_ids\"]):\n",
    "        input_batch.append(input_ids + [tokenizer.eos_token_id])\n",
    "        #if length == 15:\n",
    "        #input_batch.append(input_ids)\n",
    "    return {\"input_ids\": input_batch}\n",
    "\n",
    "\n",
    "\n",
    "# Use batched=True to activate fast multithreading!\n",
    "tokenized_datasets = ds_joke.map(\n",
    "    tokenize_function, batched=True, remove_columns=ds_joke[\"train\"].column_names)\n",
    "tokenized_datasets"
   ]
  },
  {
   "cell_type": "markdown",
   "id": "f00574f4-6ae8-4484-bc68-533b750e3077",
   "metadata": {},
   "source": [
    "Voy a estudiar la longitud de los tokens."
   ]
  },
  {
   "cell_type": "markdown",
   "id": "b2d2dd60-0165-41ed-a423-38ad3ca28be0",
   "metadata": {},
   "source": [
    "Imprimo la cantidad de tokens de los 15 1eros chistes."
   ]
  },
  {
   "cell_type": "code",
   "execution_count": 38,
   "id": "4b743cb5-f375-4a1c-a32a-f4453a75e2e8",
   "metadata": {},
   "outputs": [
    {
     "name": "stdout",
     "output_type": "stream",
     "text": [
      "'>>> Review 0 length: 16'\n",
      "'>>> Review 1 length: 16'\n",
      "'>>> Review 2 length: 19'\n",
      "'>>> Review 3 length: 29'\n",
      "'>>> Review 4 length: 20'\n",
      "'>>> Review 5 length: 16'\n",
      "'>>> Review 6 length: 19'\n",
      "'>>> Review 7 length: 22'\n",
      "'>>> Review 8 length: 44'\n",
      "'>>> Review 9 length: 26'\n",
      "'>>> Review 10 length: 21'\n",
      "'>>> Review 11 length: 42'\n",
      "'>>> Review 12 length: 19'\n",
      "'>>> Review 13 length: 37'\n",
      "'>>> Review 14 length: 20'\n"
     ]
    }
   ],
   "source": [
    "tokenized_samples = tokenized_datasets[\"train\"][:15]\n",
    "\n",
    "for idx, sample in enumerate(tokenized_samples[\"input_ids\"]):\n",
    "    print(f\"'>>> Review {idx} length: {len(sample)}'\")"
   ]
  },
  {
   "cell_type": "markdown",
   "id": "c032f32e-a629-491c-8ff8-5f27dacdebbb",
   "metadata": {},
   "source": [
    "Como se menciono anteriormente, voy a trabajar con un contexto de 128 tokens, asi que debo hacer que cada chiste tenga 128 tokens ni mas ni menos.<br>\n",
    "Pero eso es un problema, ya que estamos observando que los 1eros 15 chistes estan compuestos por menos de 65 tokens.<br>"
   ]
  },
  {
   "cell_type": "markdown",
   "id": "b0d1e40c-b8c4-430f-bdef-d98a38d50881",
   "metadata": {},
   "source": [
    "<h3><b>¿Que se podra hacer? </b></h3>\n",
    "<p>Tenemos 4 posibles soluciones:<p>\n",
    "<ol>\n",
    "   <li> Solo quedarnos con los chistes formados por 128 tokens.</li>\n",
    "   <li> Solo quedarnos con los chistes mayores o igual a 128 tokens, y luego truncar su valores(solo quedarme con los 1ero 128 tokens).</li>\n",
    "   <li> Modificiar la longitud del contexto, un valor menor como ya vimos que los 1eros 15 chistes son de una longitud muy menor a 128, podemos cambiar el contexto a 20.\n",
    "   <li> Concatenar todos los chistes y luego dividirlo en segmentos de 128 tokens.\n",
    "</ol>\n",
    "<p><b>Problemas:</b></p>\n",
    "<ul>\n",
    "    <li> Las soluciones 1 y 2 no serian las mas convenientes para nuestro problema, ya vimos que los 1eros 15 chistes eran menores a 128 tokens, perderiamos muchos datos al solo quedarme con los chistes largos.\n",
    "    <li> Con la solucion 3 no perderia datos pero si contexto en los chistes, al solo quedarme con la parte inicial los chistes perderian significado.\n",
    "    <li> La solucion 4 es la mejor. Ahora se explicara el <b>porque</b>.\n",
    "</ul>\n"
   ]
  },
  {
   "cell_type": "markdown",
   "id": "89fc64dc-ed28-4574-acc9-60b36095c483",
   "metadata": {},
   "source": [
    "#IMPORTANTE: COMPLETAR <br>\n",
    "Explicacion:"
   ]
  },
  {
   "cell_type": "code",
   "execution_count": 39,
   "id": "a4758485-8463-49ba-b47b-21a887375dbf",
   "metadata": {},
   "outputs": [
    {
     "name": "stdout",
     "output_type": "stream",
     "text": [
      "'>>> Concatenated reviews length: 366'\n"
     ]
    }
   ],
   "source": [
    "concatenated_examples = {\n",
    "    k: sum(tokenized_samples[k], []) for k in tokenized_samples.keys()\n",
    "}\n",
    "total_length = len(concatenated_examples[\"input_ids\"])\n",
    "print(f\"'>>> Concatenated reviews length: {total_length}'\")"
   ]
  },
  {
   "cell_type": "code",
   "execution_count": 40,
   "id": "c43c7f9c-149a-429a-ace9-f2fedbea8ca4",
   "metadata": {},
   "outputs": [],
   "source": [
    "chunk_size = context_length"
   ]
  },
  {
   "cell_type": "markdown",
   "id": "5e4ee987-8c1e-4096-8d74-1f364f469ad5",
   "metadata": {},
   "source": [
    "Una forma sencilla seria unir los tokens"
   ]
  },
  {
   "cell_type": "code",
   "execution_count": 41,
   "id": "c93b1616-7185-4fa8-a550-752701c01f80",
   "metadata": {},
   "outputs": [
    {
     "name": "stdout",
     "output_type": "stream",
     "text": [
      "'>>> Chunk length: 32'\n",
      "'>>> Chunk length: 32'\n",
      "'>>> Chunk length: 32'\n",
      "'>>> Chunk length: 32'\n",
      "'>>> Chunk length: 32'\n",
      "'>>> Chunk length: 32'\n",
      "'>>> Chunk length: 32'\n",
      "'>>> Chunk length: 32'\n",
      "'>>> Chunk length: 32'\n",
      "'>>> Chunk length: 32'\n",
      "'>>> Chunk length: 32'\n",
      "'>>> Chunk length: 14'\n"
     ]
    }
   ],
   "source": [
    "chunks = {\n",
    "    k: [t[i : i + chunk_size] for i in range(0, total_length, chunk_size)]\n",
    "    for k, t in concatenated_examples.items()\n",
    "}\n",
    "\n",
    "for chunk in chunks[\"input_ids\"]:\n",
    "    print(f\"'>>> Chunk length: {len(chunk)}'\")"
   ]
  },
  {
   "cell_type": "markdown",
   "id": "9c21f4ee-2042-42b7-bae2-41e661de7c12",
   "metadata": {},
   "source": [
    "<p> Observo que el ultimo dato, tiene 87 tokens. </p>\n",
    "<p>Tenemos 2 posibles soluciones.</p>\n",
    "<ol>\n",
    "    <li> Completar el dato con id que significan \"vacio\", para Arrow el 0 es el id vacio</li>\n",
    "    <li> ELiminar el dato</li>\n",
    "</ol>\n",
    "<p>En este caso se elegira la opcion 2.</p>"
   ]
  },
  {
   "cell_type": "markdown",
   "id": "592fd4b8-c4b9-40f5-aeeb-d66590c7e44f",
   "metadata": {},
   "source": [
    "Ahora recreare todo lo hecho con el dataSet completo."
   ]
  },
  {
   "cell_type": "code",
   "execution_count": 42,
   "id": "7bad9d39-6e0d-44ed-8c46-fad1a2d060c7",
   "metadata": {},
   "outputs": [],
   "source": [
    "def group_texts(examples):\n",
    "    # Concateno todo el texto\n",
    "    concatenated_examples = {k: sum(examples[k], []) for k in examples.keys()}\n",
    "    # Calculo la longitud de los textos concatenados\n",
    "    total_length = len(concatenated_examples[list(examples.keys())[0]])\n",
    "    # Si el ultimo fragmento es mas pequenio que la \"longitud del contexto\" sera eliminado.\n",
    "    total_length = (total_length // chunk_size) * chunk_size\n",
    "    # Hago un split del tamanio de la \"longitud del contexto\"\n",
    "    result = {\n",
    "        k: [t[i : i + chunk_size] for i in range(0, total_length, chunk_size)]\n",
    "        for k, t in concatenated_examples.items()\n",
    "    }\n",
    "    return result"
   ]
  },
  {
   "cell_type": "code",
   "execution_count": 43,
   "id": "03aaeea4-c2af-416e-a79d-a8b5d897af56",
   "metadata": {},
   "outputs": [
    {
     "data": {
      "application/vnd.jupyter.widget-view+json": {
       "model_id": "",
       "version_major": 2,
       "version_minor": 0
      },
      "text/plain": [
       "Map:   0%|          | 0/149330 [00:00<?, ? examples/s]"
      ]
     },
     "metadata": {},
     "output_type": "display_data"
    },
    {
     "data": {
      "application/vnd.jupyter.widget-view+json": {
       "model_id": "",
       "version_major": 2,
       "version_minor": 0
      },
      "text/plain": [
       "Map:   0%|          | 0/63999 [00:00<?, ? examples/s]"
      ]
     },
     "metadata": {},
     "output_type": "display_data"
    },
    {
     "data": {
      "text/plain": [
       "DatasetDict({\n",
       "    train: Dataset({\n",
       "        features: ['input_ids'],\n",
       "        num_rows: 122550\n",
       "    })\n",
       "    test: Dataset({\n",
       "        features: ['input_ids'],\n",
       "        num_rows: 52514\n",
       "    })\n",
       "})"
      ]
     },
     "execution_count": 43,
     "metadata": {},
     "output_type": "execute_result"
    }
   ],
   "source": [
    "df_tokenizado = tokenized_datasets.map(group_texts, batched=True)\n",
    "df_tokenizado"
   ]
  },
  {
   "cell_type": "markdown",
   "id": "80a3b955-9e5d-4385-a2c0-f8506d5d4087",
   "metadata": {},
   "source": [
    "<h3>¿Por que la solucion 4 funciona?</h3>"
   ]
  },
  {
   "cell_type": "markdown",
   "id": "710e939e-f880-431d-9eae-47ecf7b397ae",
   "metadata": {},
   "source": [
    "<p>No solo se concatenara los chistes, sino tambien nuestro modelo gpt2(Spolier!) se dara cuenta que cada data no es un solo chiste, sino que pueden ser varios y los tomara por separado</p>\n",
    "<p><b>Y como se da cuenta cuando termina uno y comienza el siguiente chistes?</b></p>\n",
    "<p>Por el caracter especial del tokenizador eos_token, que fue agregado cuando tokenizamos en el siguiente codigo:</p>\n",
    "<ul>\n",
    "    <li>input_batch.append(input_ids + <b>[tokenizer.eos_token_id]</b>)</li>\n",
    "</ul>\n",
    "</p>Su representacion es de la siguiente forma:</p>\n",
    "<ul>\n",
    "    <li>>>> Texto: <|endoftext|> </li>\n",
    "    <li>>>> ID: 0</li>\n",
    "</ul>"
   ]
  },
  {
   "cell_type": "markdown",
   "id": "92fe0397-c2c8-4cff-a348-3fe310348528",
   "metadata": {},
   "source": [
    "Lo vamos a observar en nuestro 1er dato"
   ]
  },
  {
   "cell_type": "code",
   "execution_count": 44,
   "id": "22de0077-86c6-4bda-88fe-9aa6ac0a073d",
   "metadata": {},
   "outputs": [
    {
     "data": {
      "text/plain": [
       "\"It's a fetish I never knew I had until now.<|endoftext|>What did the earthquake say to the tornado? It's not my fault.<|endoftext|>\""
      ]
     },
     "execution_count": 44,
     "metadata": {},
     "output_type": "execute_result"
    }
   ],
   "source": [
    "tokenizer.decode(df_tokenizado[\"train\"][0][\"input_ids\"])"
   ]
  },
  {
   "cell_type": "code",
   "execution_count": 45,
   "id": "e918022f-9737-4e61-a947-00744fd52056",
   "metadata": {},
   "outputs": [
    {
     "name": "stdout",
     "output_type": "stream",
     "text": [
      "Ids del 1er dato: [9721, 975, 231, 242, 444, 5898, 410, 6388, 738, 1168, 410, 8690, 3445, 2498, 14, 0, 25027, 4620, 256, 32374, 12846, 292, 256, 11742, 31, 2296, 975, 339, 2673, 12389, 14, 0]\n",
      "Posiciones del 0: [15, 31]\n"
     ]
    }
   ],
   "source": [
    "ids = list(df_tokenizado[\"train\"][0][\"input_ids\"])\n",
    "i_cero = [i for i, dato in enumerate(ids) if dato == 0]\n",
    "print(f\"Ids del 1er dato: {ids}\")\n",
    "print(f\"Posiciones del 0: {i_cero}\")"
   ]
  },
  {
   "cell_type": "markdown",
   "id": "d4d1a782-efc8-4c86-a564-8c3cc4474672",
   "metadata": {},
   "source": [
    "Observamos que en nuestro 1er dato hay 5 ceros, en otras palabras hay 4 chistes(no necesariamente el 1er y el ultimo esten completos)."
   ]
  },
  {
   "cell_type": "markdown",
   "id": "97fe2c9c-a15c-4488-a0d8-0b3d213fe0c4",
   "metadata": {},
   "source": [
    "# Modelo"
   ]
  },
  {
   "cell_type": "markdown",
   "id": "eb873cab-80a3-4ea5-be39-2ba9b817e25d",
   "metadata": {},
   "source": [
    "<p>Inicializo un nuevo modelo de GPT2, con las configuracion que estoy usando.</p>\n",
    "<ul>\n",
    "    <li> La longitud de contexto en 64.</li>\n",
    "    <li> La longitud del vocabulario igual al tokenizador. </li>\n",
    "    <li> La separacion de los chistes con eos_token_id.</li>\n",
    "</ul>"
   ]
  },
  {
   "cell_type": "code",
   "execution_count": 46,
   "id": "cb867ef8-846b-463b-9a43-0811825baef2",
   "metadata": {},
   "outputs": [],
   "source": [
    "from transformers import AutoTokenizer, GPT2LMHeadModel, AutoConfig\n",
    "\n",
    "config = AutoConfig.from_pretrained(\n",
    "    \"gpt2\",\n",
    "    vocab_size=len(tokenizer),\n",
    "    n_ctx=context_length,\n",
    "    bos_token_id=tokenizer.bos_token_id,\n",
    "    eos_token_id=tokenizer.eos_token_id,\n",
    ")\n",
    "model = GPT2LMHeadModel(config)"
   ]
  },
  {
   "cell_type": "code",
   "execution_count": null,
   "id": "4348f8a5-3b1b-4b4c-9dd5-a19b4288d2ab",
   "metadata": {},
   "outputs": [],
   "source": []
  },
  {
   "cell_type": "markdown",
   "id": "d4a75252-f02d-425c-ac5a-924add697d79",
   "metadata": {},
   "source": [
    "Observo los parametros a entrenar de mi modelo."
   ]
  },
  {
   "cell_type": "code",
   "execution_count": 47,
   "id": "a2d7fe5c-2d84-454a-9bfd-8dbfd1f2bd30",
   "metadata": {},
   "outputs": [
    {
     "name": "stdout",
     "output_type": "stream",
     "text": [
      "GPT-2 size: 124.2M parametros\n"
     ]
    }
   ],
   "source": [
    "model_size = sum(t.numel() for t in model.parameters())\n",
    "print(f\"GPT-2 size: {model_size/1000**2:.1f}M parametros\")"
   ]
  },
  {
   "cell_type": "code",
   "execution_count": 48,
   "id": "9977b3bc-ee65-47d4-a726-99951e738a09",
   "metadata": {},
   "outputs": [],
   "source": [
    "#IMPORTANTE: Al tener todas las filas de 128 tokens, no es necesario el recolector de datos!"
   ]
  },
  {
   "cell_type": "code",
   "execution_count": 49,
   "id": "c7895d62-2449-4b98-8375-203d2bd39279",
   "metadata": {},
   "outputs": [],
   "source": [
    "from transformers import DataCollatorForLanguageModeling \n",
    "\n",
    "tokenizer.pad_token = tokenizer.eos_token \n",
    "data_collator = DataCollatorForLanguageModeling(tokenizer, \n",
    "                                                mlm= False # True: Si es para un modelo de lenguaje enmascarado  \n",
    "                                               )"
   ]
  },
  {
   "cell_type": "code",
   "execution_count": 50,
   "id": "9e6fe2ac-36de-4e88-897c-6ec06afcfc8e",
   "metadata": {},
   "outputs": [],
   "source": [
    "from transformers import DataCollatorForLanguageModeling\n",
    "\n",
    "tokenizer.pad_token = tokenizer.eos_token\n",
    "data_collator = DataCollatorForLanguageModeling(tokenizer, mlm=False)"
   ]
  },
  {
   "cell_type": "code",
   "execution_count": 51,
   "id": "fcc8cf56-bc9e-4a5a-a087-234edb49fb95",
   "metadata": {},
   "outputs": [
    {
     "name": "stderr",
     "output_type": "stream",
     "text": [
      "You're using a GPT2TokenizerFast tokenizer. Please note that with a fast tokenizer, using the `__call__` method is faster than using a method to encode the text followed by a call to the `pad` method to get a padded encoding.\n"
     ]
    },
    {
     "name": "stdout",
     "output_type": "stream",
     "text": [
      "input_ids shape: torch.Size([5, 29])\n",
      "attention_mask shape: torch.Size([5, 29])\n",
      "labels shape: torch.Size([5, 29])\n"
     ]
    }
   ],
   "source": [
    "out = data_collator([tokenized_datasets[\"train\"][i] for i in range(5)])\n",
    "for key in out:\n",
    "    print(f\"{key} shape: {out[key].shape}\")"
   ]
  },
  {
   "cell_type": "code",
   "execution_count": null,
   "id": "7d67bbf4-b6a7-4c6a-b401-ed94bc425b99",
   "metadata": {},
   "outputs": [],
   "source": []
  },
  {
   "cell_type": "code",
   "execution_count": null,
   "id": "ec680272-46c1-4593-afbc-9946f85ef25e",
   "metadata": {},
   "outputs": [],
   "source": []
  },
  {
   "cell_type": "code",
   "execution_count": 52,
   "id": "bb311815-73ff-4752-aa38-d96109844038",
   "metadata": {},
   "outputs": [
    {
     "data": {
      "application/vnd.jupyter.widget-view+json": {
       "model_id": "871b093d83d145549bcfb9fd9a5bd536",
       "version_major": 2,
       "version_minor": 0
      },
      "text/plain": [
       "VBox(children=(HTML(value='<center> <img\\nsrc=https://huggingface.co/front/assets/huggingface_logo-noborder.sv…"
      ]
     },
     "metadata": {},
     "output_type": "display_data"
    }
   ],
   "source": [
    "from huggingface_hub import notebook_login\n",
    "\n",
    "notebook_login()"
   ]
  },
  {
   "cell_type": "code",
   "execution_count": 53,
   "id": "25ebec0f-3a34-4532-b94e-7d486fc086ca",
   "metadata": {},
   "outputs": [
    {
     "name": "stdout",
     "output_type": "stream",
     "text": [
      "Is Cuda available: True\n",
      "CUDA device: NVIDIA GeForce RTX 3050 Ti Laptop GPU\n"
     ]
    }
   ],
   "source": [
    "import torch\n",
    "print(f\"Is Cuda available: {torch.cuda.is_available()}\")\n",
    "print(f\"CUDA device: {torch.cuda.get_device_name(torch.cuda.current_device)}\")"
   ]
  },
  {
   "cell_type": "code",
   "execution_count": null,
   "id": "289b1022-e2b3-4520-a1c1-b311e0d64168",
   "metadata": {},
   "outputs": [
    {
     "name": "stderr",
     "output_type": "stream",
     "text": [
      "C:\\Users\\brar2\\OneDrive\\Escritorio\\Archivos\\FIUBA\\IA\\br_CLM is already a clone of https://huggingface.co/Br22/br_CLM. Make sure you pull the latest changes with `repo.git_pull()`.\n"
     ]
    }
   ],
   "source": [
    "from transformers import Trainer, TrainingArguments\n",
    "\n",
    "args = TrainingArguments(\n",
    "    output_dir=\"br_CLM\",\n",
    "    per_device_train_batch_size=16,\n",
    "    per_device_eval_batch_size=16,\n",
    "    evaluation_strategy=\"steps\",\n",
    "    eval_steps=5_000,\n",
    "    logging_steps=5_000,\n",
    "    gradient_accumulation_steps=8,\n",
    "    num_train_epochs=1,\n",
    "    weight_decay=0.1,\n",
    "    warmup_steps=1_000,\n",
    "    lr_scheduler_type=\"cosine\",\n",
    "    learning_rate=5e-4,\n",
    "    save_steps=5_000,\n",
    "    fp16=True, #Importante: SOlo descomentar si tenes GPU\n",
    "    push_to_hub=True,\n",
    ")\n",
    "\n",
    "trainer = Trainer(\n",
    "    model=model,\n",
    "    tokenizer=tokenizer,\n",
    "    args=args,\n",
    "    data_collator=data_collator,\n",
    "    train_dataset=tokenized_datasets[\"train\"],\n",
    "    eval_dataset=tokenized_datasets[\"test\"],\n",
    ")"
   ]
  },
  {
   "cell_type": "code",
   "execution_count": null,
   "id": "47e5ffde-c3e6-4224-b4d2-2fed2a2bfab0",
   "metadata": {},
   "outputs": [],
   "source": [
    "trainer.train()"
   ]
  },
  {
   "cell_type": "code",
   "execution_count": null,
   "id": "b39d044f-fb26-46ff-9a1a-b13ed3d20c07",
   "metadata": {},
   "outputs": [],
   "source": []
  },
  {
   "cell_type": "code",
   "execution_count": null,
   "id": "b497e0e9-cb95-45cc-bdf0-d27d064b3b27",
   "metadata": {},
   "outputs": [],
   "source": []
  },
  {
   "cell_type": "markdown",
   "id": "e82820b7-98b3-451c-a01a-f88279a98585",
   "metadata": {},
   "source": [
    "# Datos 2"
   ]
  },
  {
   "cell_type": "code",
   "execution_count": null,
   "id": "ad4b56f7-d6c2-45ff-a7ed-fd8b7bcec877",
   "metadata": {},
   "outputs": [],
   "source": [
    "df_2 = load_dataset(\"json\", data_files=\"./DataSets/reddit_jokes.json\", split=\"train\")"
   ]
  },
  {
   "cell_type": "code",
   "execution_count": null,
   "id": "c6a8fbe1-df14-46e5-8776-a1e07adedc69",
   "metadata": {},
   "outputs": [],
   "source": [
    "df_2"
   ]
  },
  {
   "cell_type": "code",
   "execution_count": null,
   "id": "c0d9132e-3e84-42d7-aa82-7b67e3ccb75e",
   "metadata": {},
   "outputs": [],
   "source": [
    "df_2[0:4]"
   ]
  },
  {
   "cell_type": "code",
   "execution_count": null,
   "id": "e8d68da3-56a1-4bb2-a1bb-310802a6376f",
   "metadata": {},
   "outputs": [],
   "source": []
  },
  {
   "cell_type": "code",
   "execution_count": null,
   "id": "a82f9597-e08e-4c58-a0e1-6a68fd8eb385",
   "metadata": {},
   "outputs": [],
   "source": [
    "df_2"
   ]
  },
  {
   "cell_type": "code",
   "execution_count": null,
   "id": "49e3a51d-b49b-4568-bac2-2d838c3b489c",
   "metadata": {},
   "outputs": [],
   "source": [
    "df_2 = df_2.remove_columns([\"score\", \"title\", \"id\"])"
   ]
  },
  {
   "cell_type": "code",
   "execution_count": null,
   "id": "11c0060c-46b3-4823-ae46-41e0d7374a58",
   "metadata": {},
   "outputs": [],
   "source": [
    "df_2[0]"
   ]
  },
  {
   "cell_type": "code",
   "execution_count": null,
   "id": "3e534281-ffb3-4440-bfde-ba2944d2d0c9",
   "metadata": {},
   "outputs": [],
   "source": [
    "len(df_2)"
   ]
  },
  {
   "cell_type": "code",
   "execution_count": null,
   "id": "255047ec-cf78-4141-ae1d-67c979c06075",
   "metadata": {},
   "outputs": [],
   "source": [
    "df_2[-1]"
   ]
  },
  {
   "cell_type": "code",
   "execution_count": null,
   "id": "68732b15-9f63-4af4-b3ea-0f3ebd1a48f8",
   "metadata": {},
   "outputs": [],
   "source": []
  }
 ],
 "metadata": {
  "kernelspec": {
   "display_name": "Python 3 (ipykernel)",
   "language": "python",
   "name": "python3"
  },
  "language_info": {
   "codemirror_mode": {
    "name": "ipython",
    "version": 3
   },
   "file_extension": ".py",
   "mimetype": "text/x-python",
   "name": "python",
   "nbconvert_exporter": "python",
   "pygments_lexer": "ipython3",
   "version": "3.9.13"
  }
 },
 "nbformat": 4,
 "nbformat_minor": 5
}
